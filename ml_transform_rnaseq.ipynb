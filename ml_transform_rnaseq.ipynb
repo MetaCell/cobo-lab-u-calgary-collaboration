{
 "cells": [
  {
   "cell_type": "markdown",
   "metadata": {},
   "source": [
    "# Transforming RNAseq data"
   ]
  },
  {
   "cell_type": "code",
   "execution_count": 1,
   "metadata": {},
   "outputs": [],
   "source": [
    "import os\n",
    "import pandas as pd\n",
    "import numpy as np\n",
    "import matplotlib.pyplot as plt\n",
    "import plotly.express as px"
   ]
  },
  {
   "cell_type": "markdown",
   "metadata": {},
   "source": [
    "### Basic Checks and QC"
   ]
  },
  {
   "cell_type": "code",
   "execution_count": 2,
   "metadata": {},
   "outputs": [
    {
     "data": {
      "text/html": [
       "<div>\n",
       "<style scoped>\n",
       "    .dataframe tbody tr th:only-of-type {\n",
       "        vertical-align: middle;\n",
       "    }\n",
       "\n",
       "    .dataframe tbody tr th {\n",
       "        vertical-align: top;\n",
       "    }\n",
       "\n",
       "    .dataframe thead th {\n",
       "        text-align: right;\n",
       "    }\n",
       "</style>\n",
       "<table border=\"1\" class=\"dataframe\">\n",
       "  <thead>\n",
       "    <tr style=\"text-align: right;\">\n",
       "      <th></th>\n",
       "      <th>PIG1</th>\n",
       "      <th>PIG2</th>\n",
       "      <th>PIG3</th>\n",
       "      <th>PIG4</th>\n",
       "      <th>PIG5</th>\n",
       "      <th>PIG6</th>\n",
       "      <th>PIG7</th>\n",
       "      <th>PIG8</th>\n",
       "      <th>PIG9</th>\n",
       "      <th>PIG10</th>\n",
       "      <th>PIG11</th>\n",
       "      <th>PIG12</th>\n",
       "    </tr>\n",
       "    <tr>\n",
       "      <th>gene</th>\n",
       "      <th></th>\n",
       "      <th></th>\n",
       "      <th></th>\n",
       "      <th></th>\n",
       "      <th></th>\n",
       "      <th></th>\n",
       "      <th></th>\n",
       "      <th></th>\n",
       "      <th></th>\n",
       "      <th></th>\n",
       "      <th></th>\n",
       "      <th></th>\n",
       "    </tr>\n",
       "  </thead>\n",
       "  <tbody>\n",
       "    <tr>\n",
       "      <th>ENSSSCG00000000002</th>\n",
       "      <td>219</td>\n",
       "      <td>354</td>\n",
       "      <td>308</td>\n",
       "      <td>416</td>\n",
       "      <td>308</td>\n",
       "      <td>444</td>\n",
       "      <td>673</td>\n",
       "      <td>588</td>\n",
       "      <td>354</td>\n",
       "      <td>547</td>\n",
       "      <td>747</td>\n",
       "      <td>545</td>\n",
       "    </tr>\n",
       "    <tr>\n",
       "      <th>ENSSSCG00000000003</th>\n",
       "      <td>2602</td>\n",
       "      <td>2393</td>\n",
       "      <td>2450</td>\n",
       "      <td>683</td>\n",
       "      <td>2864</td>\n",
       "      <td>1775</td>\n",
       "      <td>1367</td>\n",
       "      <td>985</td>\n",
       "      <td>2456</td>\n",
       "      <td>1913</td>\n",
       "      <td>1610</td>\n",
       "      <td>620</td>\n",
       "    </tr>\n",
       "    <tr>\n",
       "      <th>ENSSSCG00000000005</th>\n",
       "      <td>162</td>\n",
       "      <td>130</td>\n",
       "      <td>153</td>\n",
       "      <td>261</td>\n",
       "      <td>226</td>\n",
       "      <td>218</td>\n",
       "      <td>277</td>\n",
       "      <td>170</td>\n",
       "      <td>195</td>\n",
       "      <td>201</td>\n",
       "      <td>271</td>\n",
       "      <td>184</td>\n",
       "    </tr>\n",
       "    <tr>\n",
       "      <th>ENSSSCG00000000006</th>\n",
       "      <td>1275</td>\n",
       "      <td>966</td>\n",
       "      <td>1547</td>\n",
       "      <td>1004</td>\n",
       "      <td>1424</td>\n",
       "      <td>1097</td>\n",
       "      <td>868</td>\n",
       "      <td>914</td>\n",
       "      <td>1312</td>\n",
       "      <td>1153</td>\n",
       "      <td>1271</td>\n",
       "      <td>619</td>\n",
       "    </tr>\n",
       "    <tr>\n",
       "      <th>ENSSSCG00000000007</th>\n",
       "      <td>263</td>\n",
       "      <td>291</td>\n",
       "      <td>348</td>\n",
       "      <td>360</td>\n",
       "      <td>282</td>\n",
       "      <td>343</td>\n",
       "      <td>550</td>\n",
       "      <td>468</td>\n",
       "      <td>372</td>\n",
       "      <td>451</td>\n",
       "      <td>530</td>\n",
       "      <td>439</td>\n",
       "    </tr>\n",
       "  </tbody>\n",
       "</table>\n",
       "</div>"
      ],
      "text/plain": [
       "                    PIG1  PIG2  PIG3  PIG4  PIG5  PIG6  PIG7  PIG8  PIG9  \\\n",
       "gene                                                                       \n",
       "ENSSSCG00000000002   219   354   308   416   308   444   673   588   354   \n",
       "ENSSSCG00000000003  2602  2393  2450   683  2864  1775  1367   985  2456   \n",
       "ENSSSCG00000000005   162   130   153   261   226   218   277   170   195   \n",
       "ENSSSCG00000000006  1275   966  1547  1004  1424  1097   868   914  1312   \n",
       "ENSSSCG00000000007   263   291   348   360   282   343   550   468   372   \n",
       "\n",
       "                    PIG10  PIG11  PIG12  \n",
       "gene                                     \n",
       "ENSSSCG00000000002    547    747    545  \n",
       "ENSSSCG00000000003   1913   1610    620  \n",
       "ENSSSCG00000000005    201    271    184  \n",
       "ENSSSCG00000000006   1153   1271    619  \n",
       "ENSSSCG00000000007    451    530    439  "
      ]
     },
     "metadata": {},
     "output_type": "display_data"
    },
    {
     "name": "stdout",
     "output_type": "stream",
     "text": [
      "There are 0 missing/NaN values\n"
     ]
    },
    {
     "data": {
      "text/html": [
       "<div>\n",
       "<style scoped>\n",
       "    .dataframe tbody tr th:only-of-type {\n",
       "        vertical-align: middle;\n",
       "    }\n",
       "\n",
       "    .dataframe tbody tr th {\n",
       "        vertical-align: top;\n",
       "    }\n",
       "\n",
       "    .dataframe thead th {\n",
       "        text-align: right;\n",
       "    }\n",
       "</style>\n",
       "<table border=\"1\" class=\"dataframe\">\n",
       "  <thead>\n",
       "    <tr style=\"text-align: right;\">\n",
       "      <th>gene</th>\n",
       "      <th>ENSSSCG00000000002</th>\n",
       "      <th>ENSSSCG00000000003</th>\n",
       "      <th>ENSSSCG00000000005</th>\n",
       "      <th>ENSSSCG00000000006</th>\n",
       "      <th>ENSSSCG00000000007</th>\n",
       "      <th>ENSSSCG00000000010</th>\n",
       "      <th>ENSSSCG00000000014</th>\n",
       "      <th>ENSSSCG00000000018</th>\n",
       "      <th>ENSSSCG00000000019</th>\n",
       "      <th>ENSSSCG00000000020</th>\n",
       "      <th>...</th>\n",
       "      <th>ENSSSCG00000063546</th>\n",
       "      <th>ENSSSCG00000063547</th>\n",
       "      <th>ENSSSCG00000063548</th>\n",
       "      <th>ENSSSCG00000063549</th>\n",
       "      <th>ENSSSCG00000063550</th>\n",
       "      <th>ENSSSCG00000063551</th>\n",
       "      <th>ENSSSCG00000063552</th>\n",
       "      <th>ENSSSCG00000063553</th>\n",
       "      <th>ENSSSCG00000063554</th>\n",
       "      <th>ENSSSCG00000063555</th>\n",
       "    </tr>\n",
       "  </thead>\n",
       "  <tbody>\n",
       "    <tr>\n",
       "      <th>PIG1</th>\n",
       "      <td>219</td>\n",
       "      <td>2602</td>\n",
       "      <td>162</td>\n",
       "      <td>1275</td>\n",
       "      <td>263</td>\n",
       "      <td>5656</td>\n",
       "      <td>1072</td>\n",
       "      <td>2780</td>\n",
       "      <td>3031</td>\n",
       "      <td>7</td>\n",
       "      <td>...</td>\n",
       "      <td>3</td>\n",
       "      <td>0</td>\n",
       "      <td>3</td>\n",
       "      <td>0</td>\n",
       "      <td>0</td>\n",
       "      <td>7</td>\n",
       "      <td>0</td>\n",
       "      <td>1351</td>\n",
       "      <td>7</td>\n",
       "      <td>1</td>\n",
       "    </tr>\n",
       "    <tr>\n",
       "      <th>PIG2</th>\n",
       "      <td>354</td>\n",
       "      <td>2393</td>\n",
       "      <td>130</td>\n",
       "      <td>966</td>\n",
       "      <td>291</td>\n",
       "      <td>5959</td>\n",
       "      <td>865</td>\n",
       "      <td>3025</td>\n",
       "      <td>3601</td>\n",
       "      <td>16</td>\n",
       "      <td>...</td>\n",
       "      <td>25</td>\n",
       "      <td>0</td>\n",
       "      <td>0</td>\n",
       "      <td>0</td>\n",
       "      <td>0</td>\n",
       "      <td>7</td>\n",
       "      <td>0</td>\n",
       "      <td>1056</td>\n",
       "      <td>1</td>\n",
       "      <td>1</td>\n",
       "    </tr>\n",
       "    <tr>\n",
       "      <th>PIG3</th>\n",
       "      <td>308</td>\n",
       "      <td>2450</td>\n",
       "      <td>153</td>\n",
       "      <td>1547</td>\n",
       "      <td>348</td>\n",
       "      <td>8491</td>\n",
       "      <td>1718</td>\n",
       "      <td>3014</td>\n",
       "      <td>4252</td>\n",
       "      <td>3</td>\n",
       "      <td>...</td>\n",
       "      <td>19</td>\n",
       "      <td>0</td>\n",
       "      <td>2</td>\n",
       "      <td>0</td>\n",
       "      <td>0</td>\n",
       "      <td>17</td>\n",
       "      <td>0</td>\n",
       "      <td>1128</td>\n",
       "      <td>6</td>\n",
       "      <td>0</td>\n",
       "    </tr>\n",
       "    <tr>\n",
       "      <th>PIG4</th>\n",
       "      <td>416</td>\n",
       "      <td>683</td>\n",
       "      <td>261</td>\n",
       "      <td>1004</td>\n",
       "      <td>360</td>\n",
       "      <td>34450</td>\n",
       "      <td>829</td>\n",
       "      <td>6027</td>\n",
       "      <td>3459</td>\n",
       "      <td>33</td>\n",
       "      <td>...</td>\n",
       "      <td>14</td>\n",
       "      <td>0</td>\n",
       "      <td>0</td>\n",
       "      <td>0</td>\n",
       "      <td>0</td>\n",
       "      <td>16</td>\n",
       "      <td>0</td>\n",
       "      <td>400</td>\n",
       "      <td>0</td>\n",
       "      <td>0</td>\n",
       "    </tr>\n",
       "    <tr>\n",
       "      <th>PIG5</th>\n",
       "      <td>308</td>\n",
       "      <td>2864</td>\n",
       "      <td>226</td>\n",
       "      <td>1424</td>\n",
       "      <td>282</td>\n",
       "      <td>8959</td>\n",
       "      <td>1462</td>\n",
       "      <td>3682</td>\n",
       "      <td>4571</td>\n",
       "      <td>16</td>\n",
       "      <td>...</td>\n",
       "      <td>14</td>\n",
       "      <td>0</td>\n",
       "      <td>0</td>\n",
       "      <td>0</td>\n",
       "      <td>0</td>\n",
       "      <td>9</td>\n",
       "      <td>0</td>\n",
       "      <td>1444</td>\n",
       "      <td>7</td>\n",
       "      <td>0</td>\n",
       "    </tr>\n",
       "  </tbody>\n",
       "</table>\n",
       "<p>5 rows × 35670 columns</p>\n",
       "</div>"
      ],
      "text/plain": [
       "gene  ENSSSCG00000000002  ENSSSCG00000000003  ENSSSCG00000000005  \\\n",
       "PIG1                 219                2602                 162   \n",
       "PIG2                 354                2393                 130   \n",
       "PIG3                 308                2450                 153   \n",
       "PIG4                 416                 683                 261   \n",
       "PIG5                 308                2864                 226   \n",
       "\n",
       "gene  ENSSSCG00000000006  ENSSSCG00000000007  ENSSSCG00000000010  \\\n",
       "PIG1                1275                 263                5656   \n",
       "PIG2                 966                 291                5959   \n",
       "PIG3                1547                 348                8491   \n",
       "PIG4                1004                 360               34450   \n",
       "PIG5                1424                 282                8959   \n",
       "\n",
       "gene  ENSSSCG00000000014  ENSSSCG00000000018  ENSSSCG00000000019  \\\n",
       "PIG1                1072                2780                3031   \n",
       "PIG2                 865                3025                3601   \n",
       "PIG3                1718                3014                4252   \n",
       "PIG4                 829                6027                3459   \n",
       "PIG5                1462                3682                4571   \n",
       "\n",
       "gene  ENSSSCG00000000020  ...  ENSSSCG00000063546  ENSSSCG00000063547  \\\n",
       "PIG1                   7  ...                   3                   0   \n",
       "PIG2                  16  ...                  25                   0   \n",
       "PIG3                   3  ...                  19                   0   \n",
       "PIG4                  33  ...                  14                   0   \n",
       "PIG5                  16  ...                  14                   0   \n",
       "\n",
       "gene  ENSSSCG00000063548  ENSSSCG00000063549  ENSSSCG00000063550  \\\n",
       "PIG1                   3                   0                   0   \n",
       "PIG2                   0                   0                   0   \n",
       "PIG3                   2                   0                   0   \n",
       "PIG4                   0                   0                   0   \n",
       "PIG5                   0                   0                   0   \n",
       "\n",
       "gene  ENSSSCG00000063551  ENSSSCG00000063552  ENSSSCG00000063553  \\\n",
       "PIG1                   7                   0                1351   \n",
       "PIG2                   7                   0                1056   \n",
       "PIG3                  17                   0                1128   \n",
       "PIG4                  16                   0                 400   \n",
       "PIG5                   9                   0                1444   \n",
       "\n",
       "gene  ENSSSCG00000063554  ENSSSCG00000063555  \n",
       "PIG1                   7                   1  \n",
       "PIG2                   1                   1  \n",
       "PIG3                   6                   0  \n",
       "PIG4                   0                   0  \n",
       "PIG5                   7                   0  \n",
       "\n",
       "[5 rows x 35670 columns]"
      ]
     },
     "metadata": {},
     "output_type": "display_data"
    }
   ],
   "source": [
    "transcript_df = pd.read_csv(\"./data/pigs_rna_seq.csv\", index_col=0)\n",
    "display(transcript_df.head())\n",
    "transcript_transposed_df = transcript_df.transpose()\n",
    "print(f\"There are {transcript_transposed_df.isna().sum().sum()} missing/NaN values\")\n",
    "display(transcript_transposed_df.head())"
   ]
  },
  {
   "cell_type": "code",
   "execution_count": 3,
   "metadata": {},
   "outputs": [
    {
     "name": "stdout",
     "output_type": "stream",
     "text": [
      "Metadata columns: Index(['Pig ', 'Treatment', 'Day Euthanized', 'Max Fecal Score'], dtype='object')\n"
     ]
    },
    {
     "data": {
      "text/html": [
       "<div>\n",
       "<style scoped>\n",
       "    .dataframe tbody tr th:only-of-type {\n",
       "        vertical-align: middle;\n",
       "    }\n",
       "\n",
       "    .dataframe tbody tr th {\n",
       "        vertical-align: top;\n",
       "    }\n",
       "\n",
       "    .dataframe thead th {\n",
       "        text-align: right;\n",
       "    }\n",
       "</style>\n",
       "<table border=\"1\" class=\"dataframe\">\n",
       "  <thead>\n",
       "    <tr style=\"text-align: right;\">\n",
       "      <th></th>\n",
       "      <th>Pig</th>\n",
       "      <th>Treatment</th>\n",
       "      <th>Day Euthanized</th>\n",
       "      <th>Max Fecal Score</th>\n",
       "    </tr>\n",
       "  </thead>\n",
       "  <tbody>\n",
       "    <tr>\n",
       "      <th>0</th>\n",
       "      <td>1</td>\n",
       "      <td>Sham</td>\n",
       "      <td>21</td>\n",
       "      <td>0</td>\n",
       "    </tr>\n",
       "    <tr>\n",
       "      <th>1</th>\n",
       "      <td>2</td>\n",
       "      <td>Sham</td>\n",
       "      <td>21</td>\n",
       "      <td>0</td>\n",
       "    </tr>\n",
       "    <tr>\n",
       "      <th>2</th>\n",
       "      <td>3</td>\n",
       "      <td>Sham</td>\n",
       "      <td>21</td>\n",
       "      <td>0</td>\n",
       "    </tr>\n",
       "    <tr>\n",
       "      <th>3</th>\n",
       "      <td>4</td>\n",
       "      <td>Sham</td>\n",
       "      <td>21</td>\n",
       "      <td>0</td>\n",
       "    </tr>\n",
       "    <tr>\n",
       "      <th>4</th>\n",
       "      <td>5</td>\n",
       "      <td>Bhyo</td>\n",
       "      <td>21</td>\n",
       "      <td>2</td>\n",
       "    </tr>\n",
       "  </tbody>\n",
       "</table>\n",
       "</div>"
      ],
      "text/plain": [
       "   Pig  Treatment  Day Euthanized  Max Fecal Score\n",
       "0     1      Sham              21                0\n",
       "1     2      Sham              21                0\n",
       "2     3      Sham              21                0\n",
       "3     4      Sham              21                0\n",
       "4     5      Bhyo              21                2"
      ]
     },
     "metadata": {},
     "output_type": "display_data"
    },
    {
     "name": "stdout",
     "output_type": "stream",
     "text": [
      "Samples in RNA-seq but missing in metadata: set()\n",
      "Samples in metadata but missing in RNA-seq: set()\n"
     ]
    }
   ],
   "source": [
    "# Load metadata\n",
    "metadata_df = pd.read_csv(\"./data/metadata.csv\")\n",
    "\n",
    "# Check column names and first few rows\n",
    "print(\"Metadata columns:\", metadata_df.columns)\n",
    "display(metadata_df.head())\n",
    "\n",
    "# Standardizing sample names (assuming 'Pig' column stores sample identifiers)\n",
    "metadata_df.rename(columns={'Pig ': 'Pig'}, inplace=True)  # Fix any trailing spaces\n",
    "metadata_df['Pig'] = metadata_df['Pig'].astype(str)  # Convert to string for comparison\n",
    "\n",
    "# Standardize sample names in transcript data (e.g., PIG1, PIG2, ...)\n",
    "metadata_df['Pig'] = metadata_df['Pig'].apply(lambda x: f'PIG{x}')\n",
    "\n",
    "# Check if all RNA-seq sample columns exist in metadata\n",
    "rna_seq_samples = set(transcript_transposed_df.index)\n",
    "metadata_samples = set(metadata_df['Pig'])\n",
    "\n",
    "missing_in_metadata = rna_seq_samples - metadata_samples\n",
    "missing_in_rna_seq = metadata_samples - rna_seq_samples\n",
    "\n",
    "print(\"Samples in RNA-seq but missing in metadata:\", missing_in_metadata)\n",
    "print(\"Samples in metadata but missing in RNA-seq:\", missing_in_rna_seq)"
   ]
  },
  {
   "cell_type": "code",
   "execution_count": 4,
   "metadata": {},
   "outputs": [],
   "source": [
    "#Threshold Settings\n",
    "LOW_EXPRESSION_THRESHOLD = 10 #This is the standard minimum expression value for the gene to be retained\n",
    "VARIANCE_THRESHOLD = 0.25 #This is the standard minimum amount of variance for the gene to be retained"
   ]
  },
  {
   "cell_type": "markdown",
   "metadata": {},
   "source": [
    "### Remove Low expression genes"
   ]
  },
  {
   "cell_type": "code",
   "execution_count": 5,
   "metadata": {},
   "outputs": [
    {
     "name": "stdout",
     "output_type": "stream",
     "text": [
      "Number of genes before filtering: 35670\n",
      "Number of genes after filtering: 23910\n"
     ]
    }
   ],
   "source": [
    "# Filter out lowly expressed genes\n",
    "filtered_transcript_df = transcript_df.loc[transcript_df.sum(axis=1) >= LOW_EXPRESSION_THRESHOLD]\n",
    "print(f\"Number of genes before filtering: {transcript_df.shape[0]}\")\n",
    "print(f\"Number of genes after filtering: {filtered_transcript_df.shape[0]}\")\n",
    "\n",
    "#save_intermediate_file\n",
    "filtered_transcript_df.to_csv(\"./data/outputs/rnaseq/filtered_transcript_df.csv\",index=True)"
   ]
  },
  {
   "cell_type": "markdown",
   "metadata": {},
   "source": [
    "### Log Transform\n",
    "Use the natural log to reduce the effect of large outliers."
   ]
  },
  {
   "cell_type": "code",
   "execution_count": 8,
   "metadata": {},
   "outputs": [
    {
     "data": {
      "text/html": [
       "<div>\n",
       "<style scoped>\n",
       "    .dataframe tbody tr th:only-of-type {\n",
       "        vertical-align: middle;\n",
       "    }\n",
       "\n",
       "    .dataframe tbody tr th {\n",
       "        vertical-align: top;\n",
       "    }\n",
       "\n",
       "    .dataframe thead th {\n",
       "        text-align: right;\n",
       "    }\n",
       "</style>\n",
       "<table border=\"1\" class=\"dataframe\">\n",
       "  <thead>\n",
       "    <tr style=\"text-align: right;\">\n",
       "      <th></th>\n",
       "      <th>PIG1</th>\n",
       "      <th>PIG2</th>\n",
       "      <th>PIG3</th>\n",
       "      <th>PIG4</th>\n",
       "      <th>PIG5</th>\n",
       "      <th>PIG6</th>\n",
       "      <th>PIG7</th>\n",
       "      <th>PIG8</th>\n",
       "      <th>PIG9</th>\n",
       "      <th>PIG10</th>\n",
       "      <th>PIG11</th>\n",
       "      <th>PIG12</th>\n",
       "    </tr>\n",
       "  </thead>\n",
       "  <tbody>\n",
       "    <tr>\n",
       "      <th>count</th>\n",
       "      <td>23910.000000</td>\n",
       "      <td>23910.000000</td>\n",
       "      <td>23910.000000</td>\n",
       "      <td>23910.000000</td>\n",
       "      <td>23910.000000</td>\n",
       "      <td>23910.000000</td>\n",
       "      <td>23910.000000</td>\n",
       "      <td>23910.000000</td>\n",
       "      <td>23910.000000</td>\n",
       "      <td>23910.000000</td>\n",
       "      <td>23910.000000</td>\n",
       "      <td>23910.000000</td>\n",
       "    </tr>\n",
       "    <tr>\n",
       "      <th>mean</th>\n",
       "      <td>5.009683</td>\n",
       "      <td>4.806879</td>\n",
       "      <td>5.123280</td>\n",
       "      <td>4.900548</td>\n",
       "      <td>4.912850</td>\n",
       "      <td>4.980029</td>\n",
       "      <td>4.856819</td>\n",
       "      <td>4.989234</td>\n",
       "      <td>4.682233</td>\n",
       "      <td>4.854276</td>\n",
       "      <td>5.090023</td>\n",
       "      <td>4.935152</td>\n",
       "    </tr>\n",
       "    <tr>\n",
       "      <th>std</th>\n",
       "      <td>2.516373</td>\n",
       "      <td>2.657716</td>\n",
       "      <td>2.624175</td>\n",
       "      <td>2.768839</td>\n",
       "      <td>2.747098</td>\n",
       "      <td>2.796876</td>\n",
       "      <td>2.995247</td>\n",
       "      <td>2.689754</td>\n",
       "      <td>2.852131</td>\n",
       "      <td>2.892687</td>\n",
       "      <td>2.881086</td>\n",
       "      <td>2.691191</td>\n",
       "    </tr>\n",
       "    <tr>\n",
       "      <th>min</th>\n",
       "      <td>0.000000</td>\n",
       "      <td>0.000000</td>\n",
       "      <td>0.000000</td>\n",
       "      <td>0.000000</td>\n",
       "      <td>0.000000</td>\n",
       "      <td>0.000000</td>\n",
       "      <td>0.000000</td>\n",
       "      <td>0.000000</td>\n",
       "      <td>0.000000</td>\n",
       "      <td>0.000000</td>\n",
       "      <td>0.000000</td>\n",
       "      <td>0.000000</td>\n",
       "    </tr>\n",
       "    <tr>\n",
       "      <th>25%</th>\n",
       "      <td>2.995732</td>\n",
       "      <td>2.564949</td>\n",
       "      <td>2.995732</td>\n",
       "      <td>2.564949</td>\n",
       "      <td>2.564949</td>\n",
       "      <td>2.564949</td>\n",
       "      <td>2.197225</td>\n",
       "      <td>2.772589</td>\n",
       "      <td>2.197225</td>\n",
       "      <td>2.302585</td>\n",
       "      <td>2.639057</td>\n",
       "      <td>2.639057</td>\n",
       "    </tr>\n",
       "    <tr>\n",
       "      <th>50%</th>\n",
       "      <td>5.446737</td>\n",
       "      <td>5.241747</td>\n",
       "      <td>5.560682</td>\n",
       "      <td>5.393628</td>\n",
       "      <td>5.407172</td>\n",
       "      <td>5.451038</td>\n",
       "      <td>5.361292</td>\n",
       "      <td>5.411646</td>\n",
       "      <td>5.093750</td>\n",
       "      <td>5.257495</td>\n",
       "      <td>5.579730</td>\n",
       "      <td>5.370638</td>\n",
       "    </tr>\n",
       "    <tr>\n",
       "      <th>75%</th>\n",
       "      <td>7.035269</td>\n",
       "      <td>6.998510</td>\n",
       "      <td>7.250458</td>\n",
       "      <td>7.202475</td>\n",
       "      <td>7.204893</td>\n",
       "      <td>7.321023</td>\n",
       "      <td>7.419231</td>\n",
       "      <td>7.221105</td>\n",
       "      <td>7.098995</td>\n",
       "      <td>7.314386</td>\n",
       "      <td>7.508787</td>\n",
       "      <td>7.170888</td>\n",
       "    </tr>\n",
       "    <tr>\n",
       "      <th>max</th>\n",
       "      <td>13.299518</td>\n",
       "      <td>13.284916</td>\n",
       "      <td>13.512135</td>\n",
       "      <td>13.935119</td>\n",
       "      <td>13.701840</td>\n",
       "      <td>13.620404</td>\n",
       "      <td>14.268608</td>\n",
       "      <td>13.535940</td>\n",
       "      <td>13.842056</td>\n",
       "      <td>13.784417</td>\n",
       "      <td>14.253356</td>\n",
       "      <td>13.336653</td>\n",
       "    </tr>\n",
       "  </tbody>\n",
       "</table>\n",
       "</div>"
      ],
      "text/plain": [
       "               PIG1          PIG2          PIG3          PIG4          PIG5  \\\n",
       "count  23910.000000  23910.000000  23910.000000  23910.000000  23910.000000   \n",
       "mean       5.009683      4.806879      5.123280      4.900548      4.912850   \n",
       "std        2.516373      2.657716      2.624175      2.768839      2.747098   \n",
       "min        0.000000      0.000000      0.000000      0.000000      0.000000   \n",
       "25%        2.995732      2.564949      2.995732      2.564949      2.564949   \n",
       "50%        5.446737      5.241747      5.560682      5.393628      5.407172   \n",
       "75%        7.035269      6.998510      7.250458      7.202475      7.204893   \n",
       "max       13.299518     13.284916     13.512135     13.935119     13.701840   \n",
       "\n",
       "               PIG6          PIG7          PIG8          PIG9         PIG10  \\\n",
       "count  23910.000000  23910.000000  23910.000000  23910.000000  23910.000000   \n",
       "mean       4.980029      4.856819      4.989234      4.682233      4.854276   \n",
       "std        2.796876      2.995247      2.689754      2.852131      2.892687   \n",
       "min        0.000000      0.000000      0.000000      0.000000      0.000000   \n",
       "25%        2.564949      2.197225      2.772589      2.197225      2.302585   \n",
       "50%        5.451038      5.361292      5.411646      5.093750      5.257495   \n",
       "75%        7.321023      7.419231      7.221105      7.098995      7.314386   \n",
       "max       13.620404     14.268608     13.535940     13.842056     13.784417   \n",
       "\n",
       "              PIG11         PIG12  \n",
       "count  23910.000000  23910.000000  \n",
       "mean       5.090023      4.935152  \n",
       "std        2.881086      2.691191  \n",
       "min        0.000000      0.000000  \n",
       "25%        2.639057      2.639057  \n",
       "50%        5.579730      5.370638  \n",
       "75%        7.508787      7.170888  \n",
       "max       14.253356     13.336653  "
      ]
     },
     "execution_count": 8,
     "metadata": {},
     "output_type": "execute_result"
    }
   ],
   "source": [
    "#Natural log transform\n",
    "pseudo_count = 1 #To avoid 0s\n",
    "ln_transcript_df = filtered_transcript_df.apply(lambda x: np.log(x + pseudo_count))\n",
    "ln_transcript_df.to_csv(\"./data/outputs/rnaseq/ln_transcript_rnaseq.csv\")\n",
    "ln_transcript_df.describe()"
   ]
  },
  {
   "cell_type": "markdown",
   "metadata": {},
   "source": [
    "### Select the top 1000 variable genes"
   ]
  },
  {
   "cell_type": "code",
   "execution_count": 10,
   "metadata": {},
   "outputs": [
    {
     "name": "stdout",
     "output_type": "stream",
     "text": [
      "Original genes: 23910\n",
      "Genes after high-variance filtering: 1000\n"
     ]
    },
    {
     "data": {
      "text/html": [
       "<div>\n",
       "<style scoped>\n",
       "    .dataframe tbody tr th:only-of-type {\n",
       "        vertical-align: middle;\n",
       "    }\n",
       "\n",
       "    .dataframe tbody tr th {\n",
       "        vertical-align: top;\n",
       "    }\n",
       "\n",
       "    .dataframe thead th {\n",
       "        text-align: right;\n",
       "    }\n",
       "</style>\n",
       "<table border=\"1\" class=\"dataframe\">\n",
       "  <thead>\n",
       "    <tr style=\"text-align: right;\">\n",
       "      <th></th>\n",
       "      <th>PIG1</th>\n",
       "      <th>PIG2</th>\n",
       "      <th>PIG3</th>\n",
       "      <th>PIG4</th>\n",
       "      <th>PIG5</th>\n",
       "      <th>PIG6</th>\n",
       "      <th>PIG7</th>\n",
       "      <th>PIG8</th>\n",
       "      <th>PIG9</th>\n",
       "      <th>PIG10</th>\n",
       "      <th>PIG11</th>\n",
       "      <th>PIG12</th>\n",
       "    </tr>\n",
       "  </thead>\n",
       "  <tbody>\n",
       "    <tr>\n",
       "      <th>count</th>\n",
       "      <td>1000.000000</td>\n",
       "      <td>1000.000000</td>\n",
       "      <td>1000.000000</td>\n",
       "      <td>1000.000000</td>\n",
       "      <td>1000.000000</td>\n",
       "      <td>1000.000000</td>\n",
       "      <td>1000.000000</td>\n",
       "      <td>1000.000000</td>\n",
       "      <td>1000.000000</td>\n",
       "      <td>1000.000000</td>\n",
       "      <td>1000.000000</td>\n",
       "      <td>1000.000000</td>\n",
       "    </tr>\n",
       "    <tr>\n",
       "      <th>mean</th>\n",
       "      <td>3.224872</td>\n",
       "      <td>2.888060</td>\n",
       "      <td>3.200714</td>\n",
       "      <td>2.848439</td>\n",
       "      <td>3.022379</td>\n",
       "      <td>3.039083</td>\n",
       "      <td>2.716604</td>\n",
       "      <td>3.045602</td>\n",
       "      <td>2.338649</td>\n",
       "      <td>2.550272</td>\n",
       "      <td>2.954776</td>\n",
       "      <td>2.987886</td>\n",
       "    </tr>\n",
       "    <tr>\n",
       "      <th>std</th>\n",
       "      <td>2.048849</td>\n",
       "      <td>2.144288</td>\n",
       "      <td>2.189454</td>\n",
       "      <td>2.419976</td>\n",
       "      <td>2.262531</td>\n",
       "      <td>2.326296</td>\n",
       "      <td>2.582982</td>\n",
       "      <td>2.136088</td>\n",
       "      <td>2.272836</td>\n",
       "      <td>2.313695</td>\n",
       "      <td>2.259765</td>\n",
       "      <td>2.122207</td>\n",
       "    </tr>\n",
       "    <tr>\n",
       "      <th>min</th>\n",
       "      <td>0.000000</td>\n",
       "      <td>0.000000</td>\n",
       "      <td>0.000000</td>\n",
       "      <td>0.000000</td>\n",
       "      <td>0.000000</td>\n",
       "      <td>0.000000</td>\n",
       "      <td>0.000000</td>\n",
       "      <td>0.000000</td>\n",
       "      <td>0.000000</td>\n",
       "      <td>0.000000</td>\n",
       "      <td>0.000000</td>\n",
       "      <td>0.000000</td>\n",
       "    </tr>\n",
       "    <tr>\n",
       "      <th>25%</th>\n",
       "      <td>2.079442</td>\n",
       "      <td>1.386294</td>\n",
       "      <td>1.791759</td>\n",
       "      <td>0.693147</td>\n",
       "      <td>1.609438</td>\n",
       "      <td>1.386294</td>\n",
       "      <td>0.000000</td>\n",
       "      <td>1.609438</td>\n",
       "      <td>0.000000</td>\n",
       "      <td>0.693147</td>\n",
       "      <td>1.386294</td>\n",
       "      <td>1.609438</td>\n",
       "    </tr>\n",
       "    <tr>\n",
       "      <th>50%</th>\n",
       "      <td>3.135494</td>\n",
       "      <td>2.639057</td>\n",
       "      <td>2.995732</td>\n",
       "      <td>2.639057</td>\n",
       "      <td>2.708050</td>\n",
       "      <td>2.772589</td>\n",
       "      <td>2.302585</td>\n",
       "      <td>2.802901</td>\n",
       "      <td>1.945910</td>\n",
       "      <td>2.197225</td>\n",
       "      <td>2.708050</td>\n",
       "      <td>2.833213</td>\n",
       "    </tr>\n",
       "    <tr>\n",
       "      <th>75%</th>\n",
       "      <td>4.143135</td>\n",
       "      <td>3.828641</td>\n",
       "      <td>4.114939</td>\n",
       "      <td>4.237704</td>\n",
       "      <td>4.043051</td>\n",
       "      <td>4.248495</td>\n",
       "      <td>4.234107</td>\n",
       "      <td>4.234107</td>\n",
       "      <td>3.644080</td>\n",
       "      <td>3.916974</td>\n",
       "      <td>4.174387</td>\n",
       "      <td>4.043051</td>\n",
       "    </tr>\n",
       "    <tr>\n",
       "      <th>max</th>\n",
       "      <td>11.756428</td>\n",
       "      <td>10.702975</td>\n",
       "      <td>11.203516</td>\n",
       "      <td>11.051461</td>\n",
       "      <td>11.212941</td>\n",
       "      <td>12.152023</td>\n",
       "      <td>12.860986</td>\n",
       "      <td>12.524923</td>\n",
       "      <td>12.475676</td>\n",
       "      <td>12.266664</td>\n",
       "      <td>12.735500</td>\n",
       "      <td>12.508493</td>\n",
       "    </tr>\n",
       "  </tbody>\n",
       "</table>\n",
       "</div>"
      ],
      "text/plain": [
       "              PIG1         PIG2         PIG3         PIG4         PIG5  \\\n",
       "count  1000.000000  1000.000000  1000.000000  1000.000000  1000.000000   \n",
       "mean      3.224872     2.888060     3.200714     2.848439     3.022379   \n",
       "std       2.048849     2.144288     2.189454     2.419976     2.262531   \n",
       "min       0.000000     0.000000     0.000000     0.000000     0.000000   \n",
       "25%       2.079442     1.386294     1.791759     0.693147     1.609438   \n",
       "50%       3.135494     2.639057     2.995732     2.639057     2.708050   \n",
       "75%       4.143135     3.828641     4.114939     4.237704     4.043051   \n",
       "max      11.756428    10.702975    11.203516    11.051461    11.212941   \n",
       "\n",
       "              PIG6         PIG7         PIG8         PIG9        PIG10  \\\n",
       "count  1000.000000  1000.000000  1000.000000  1000.000000  1000.000000   \n",
       "mean      3.039083     2.716604     3.045602     2.338649     2.550272   \n",
       "std       2.326296     2.582982     2.136088     2.272836     2.313695   \n",
       "min       0.000000     0.000000     0.000000     0.000000     0.000000   \n",
       "25%       1.386294     0.000000     1.609438     0.000000     0.693147   \n",
       "50%       2.772589     2.302585     2.802901     1.945910     2.197225   \n",
       "75%       4.248495     4.234107     4.234107     3.644080     3.916974   \n",
       "max      12.152023    12.860986    12.524923    12.475676    12.266664   \n",
       "\n",
       "             PIG11        PIG12  \n",
       "count  1000.000000  1000.000000  \n",
       "mean      2.954776     2.987886  \n",
       "std       2.259765     2.122207  \n",
       "min       0.000000     0.000000  \n",
       "25%       1.386294     1.609438  \n",
       "50%       2.708050     2.833213  \n",
       "75%       4.174387     4.043051  \n",
       "max      12.735500    12.508493  "
      ]
     },
     "execution_count": 10,
     "metadata": {},
     "output_type": "execute_result"
    }
   ],
   "source": [
    "# Compute variance across all samples\n",
    "gene_variances = ln_transcript_df.var(axis=1)\n",
    "\n",
    "# Select top 1000 most variable genes\n",
    "top_variable_genes = gene_variances.nlargest(1000).index\n",
    "\n",
    "# Subset the data\n",
    "high_variance_ln_df = ln_transcript_df.loc[top_variable_genes]\n",
    "\n",
    "# Save the filtered dataset\n",
    "high_variance_ln_df.to_csv(\"./data/outputs/rnaseq/high_variance_ln_transcript.csv\", index=True)\n",
    "\n",
    "# Display summary\n",
    "print(f\"Original genes: {ln_transcript_df.shape[0]}\")\n",
    "print(f\"Genes after high-variance filtering: {high_variance_ln_df.shape[0]}\")\n",
    "\n",
    "high_variance_ln_df.describe()"
   ]
  },
  {
   "cell_type": "markdown",
   "metadata": {},
   "source": [
    "## Heatmap and Hierarchical clustering"
   ]
  },
  {
   "cell_type": "code",
   "execution_count": 12,
   "metadata": {},
   "outputs": [],
   "source": [
    "import scipy.cluster.hierarchy as sch\n",
    "import scipy.spatial.distance as dist"
   ]
  },
  {
   "cell_type": "code",
   "execution_count": 42,
   "metadata": {},
   "outputs": [
    {
     "data": {
      "text/html": [
       "<div>\n",
       "<style scoped>\n",
       "    .dataframe tbody tr th:only-of-type {\n",
       "        vertical-align: middle;\n",
       "    }\n",
       "\n",
       "    .dataframe tbody tr th {\n",
       "        vertical-align: top;\n",
       "    }\n",
       "\n",
       "    .dataframe thead th {\n",
       "        text-align: right;\n",
       "    }\n",
       "</style>\n",
       "<table border=\"1\" class=\"dataframe\">\n",
       "  <thead>\n",
       "    <tr style=\"text-align: right;\">\n",
       "      <th></th>\n",
       "      <th>PIG1</th>\n",
       "      <th>PIG2</th>\n",
       "      <th>PIG3</th>\n",
       "      <th>PIG4</th>\n",
       "      <th>PIG5</th>\n",
       "      <th>PIG6</th>\n",
       "      <th>PIG7</th>\n",
       "      <th>PIG8</th>\n",
       "      <th>PIG9</th>\n",
       "      <th>PIG10</th>\n",
       "      <th>PIG11</th>\n",
       "      <th>PIG12</th>\n",
       "    </tr>\n",
       "  </thead>\n",
       "  <tbody>\n",
       "    <tr>\n",
       "      <th>count</th>\n",
       "      <td>1000.000000</td>\n",
       "      <td>1000.000000</td>\n",
       "      <td>1000.000000</td>\n",
       "      <td>1000.000000</td>\n",
       "      <td>1.000000e+03</td>\n",
       "      <td>1.000000e+03</td>\n",
       "      <td>1.000000e+03</td>\n",
       "      <td>1.000000e+03</td>\n",
       "      <td>1.000000e+03</td>\n",
       "      <td>1.000000e+03</td>\n",
       "      <td>1.000000e+03</td>\n",
       "      <td>1.000000e+03</td>\n",
       "    </tr>\n",
       "    <tr>\n",
       "      <th>mean</th>\n",
       "      <td>0.130507</td>\n",
       "      <td>-0.127198</td>\n",
       "      <td>0.192772</td>\n",
       "      <td>-0.196080</td>\n",
       "      <td>1.945745e+03</td>\n",
       "      <td>1.594689e+04</td>\n",
       "      <td>2.530345e+04</td>\n",
       "      <td>2.548666e+04</td>\n",
       "      <td>1.860446e+04</td>\n",
       "      <td>2.599063e+04</td>\n",
       "      <td>1.869080e+04</td>\n",
       "      <td>2.677627e+04</td>\n",
       "    </tr>\n",
       "    <tr>\n",
       "      <th>std</th>\n",
       "      <td>0.744465</td>\n",
       "      <td>0.697741</td>\n",
       "      <td>0.805020</td>\n",
       "      <td>1.081162</td>\n",
       "      <td>6.153509e+04</td>\n",
       "      <td>2.240506e+05</td>\n",
       "      <td>3.025537e+05</td>\n",
       "      <td>2.797629e+05</td>\n",
       "      <td>2.113011e+05</td>\n",
       "      <td>2.867258e+05</td>\n",
       "      <td>2.332844e+05</td>\n",
       "      <td>3.029539e+05</td>\n",
       "    </tr>\n",
       "    <tr>\n",
       "      <th>min</th>\n",
       "      <td>-1.497269</td>\n",
       "      <td>-1.498326</td>\n",
       "      <td>-1.498130</td>\n",
       "      <td>-1.499807</td>\n",
       "      <td>-4.163815e+01</td>\n",
       "      <td>-2.125209e+01</td>\n",
       "      <td>-2.702054e+01</td>\n",
       "      <td>-1.196167e+01</td>\n",
       "      <td>-2.702054e+01</td>\n",
       "      <td>-2.933400e+01</td>\n",
       "      <td>-2.486799e+01</td>\n",
       "      <td>-1.205432e+01</td>\n",
       "    </tr>\n",
       "    <tr>\n",
       "      <th>25%</th>\n",
       "      <td>-0.500000</td>\n",
       "      <td>-0.629831</td>\n",
       "      <td>-0.497304</td>\n",
       "      <td>-1.230337</td>\n",
       "      <td>-6.006216e-01</td>\n",
       "      <td>-8.242505e-01</td>\n",
       "      <td>-1.471562e+00</td>\n",
       "      <td>-1.077007e+00</td>\n",
       "      <td>-1.692504e+00</td>\n",
       "      <td>-1.605021e+00</td>\n",
       "      <td>-1.052511e+00</td>\n",
       "      <td>-1.065312e+00</td>\n",
       "    </tr>\n",
       "    <tr>\n",
       "      <th>50%</th>\n",
       "      <td>0.253296</td>\n",
       "      <td>-0.108294</td>\n",
       "      <td>0.310661</td>\n",
       "      <td>-0.500000</td>\n",
       "      <td>2.885083e-02</td>\n",
       "      <td>3.878141e-02</td>\n",
       "      <td>-4.621379e-01</td>\n",
       "      <td>-1.019213e-01</td>\n",
       "      <td>-7.196014e-01</td>\n",
       "      <td>-6.192898e-01</td>\n",
       "      <td>-1.396126e-01</td>\n",
       "      <td>-8.103745e-02</td>\n",
       "    </tr>\n",
       "    <tr>\n",
       "      <th>75%</th>\n",
       "      <td>0.743552</td>\n",
       "      <td>0.399689</td>\n",
       "      <td>0.873019</td>\n",
       "      <td>0.958249</td>\n",
       "      <td>5.988627e-01</td>\n",
       "      <td>8.158489e-01</td>\n",
       "      <td>7.524645e-01</td>\n",
       "      <td>9.575482e-01</td>\n",
       "      <td>3.811064e-01</td>\n",
       "      <td>6.713568e-01</td>\n",
       "      <td>6.337748e-01</td>\n",
       "      <td>8.239453e-01</td>\n",
       "    </tr>\n",
       "    <tr>\n",
       "      <th>max</th>\n",
       "      <td>1.500000</td>\n",
       "      <td>1.500000</td>\n",
       "      <td>1.500000</td>\n",
       "      <td>1.500000</td>\n",
       "      <td>1.945910e+06</td>\n",
       "      <td>4.043051e+06</td>\n",
       "      <td>5.669881e+06</td>\n",
       "      <td>4.836282e+06</td>\n",
       "      <td>3.367296e+06</td>\n",
       "      <td>4.204693e+06</td>\n",
       "      <td>3.806662e+06</td>\n",
       "      <td>3.850148e+06</td>\n",
       "    </tr>\n",
       "  </tbody>\n",
       "</table>\n",
       "</div>"
      ],
      "text/plain": [
       "              PIG1         PIG2         PIG3         PIG4          PIG5  \\\n",
       "count  1000.000000  1000.000000  1000.000000  1000.000000  1.000000e+03   \n",
       "mean      0.130507    -0.127198     0.192772    -0.196080  1.945745e+03   \n",
       "std       0.744465     0.697741     0.805020     1.081162  6.153509e+04   \n",
       "min      -1.497269    -1.498326    -1.498130    -1.499807 -4.163815e+01   \n",
       "25%      -0.500000    -0.629831    -0.497304    -1.230337 -6.006216e-01   \n",
       "50%       0.253296    -0.108294     0.310661    -0.500000  2.885083e-02   \n",
       "75%       0.743552     0.399689     0.873019     0.958249  5.988627e-01   \n",
       "max       1.500000     1.500000     1.500000     1.500000  1.945910e+06   \n",
       "\n",
       "               PIG6          PIG7          PIG8          PIG9         PIG10  \\\n",
       "count  1.000000e+03  1.000000e+03  1.000000e+03  1.000000e+03  1.000000e+03   \n",
       "mean   1.594689e+04  2.530345e+04  2.548666e+04  1.860446e+04  2.599063e+04   \n",
       "std    2.240506e+05  3.025537e+05  2.797629e+05  2.113011e+05  2.867258e+05   \n",
       "min   -2.125209e+01 -2.702054e+01 -1.196167e+01 -2.702054e+01 -2.933400e+01   \n",
       "25%   -8.242505e-01 -1.471562e+00 -1.077007e+00 -1.692504e+00 -1.605021e+00   \n",
       "50%    3.878141e-02 -4.621379e-01 -1.019213e-01 -7.196014e-01 -6.192898e-01   \n",
       "75%    8.158489e-01  7.524645e-01  9.575482e-01  3.811064e-01  6.713568e-01   \n",
       "max    4.043051e+06  5.669881e+06  4.836282e+06  3.367296e+06  4.204693e+06   \n",
       "\n",
       "              PIG11         PIG12  \n",
       "count  1.000000e+03  1.000000e+03  \n",
       "mean   1.869080e+04  2.677627e+04  \n",
       "std    2.332844e+05  3.029539e+05  \n",
       "min   -2.486799e+01 -1.205432e+01  \n",
       "25%   -1.052511e+00 -1.065312e+00  \n",
       "50%   -1.396126e-01 -8.103745e-02  \n",
       "75%    6.337748e-01  8.239453e-01  \n",
       "max    3.806662e+06  3.850148e+06  "
      ]
     },
     "metadata": {},
     "output_type": "display_data"
    },
    {
     "data": {
      "application/vnd.plotly.v1+json": {
       "config": {
        "plotlyServerURL": "https://plot.ly"
       },
       "data": [
        {
         "coloraxis": "coloraxis",
         "hovertemplate": "Samples: %{x}<br>Genes: %{y}<br>Expression Level: %{z}<extra></extra>",
         "name": "0",
         "type": "heatmap",
         "x": [
          "PIG1",
          "PIG2",
          "PIG3",
          "PIG4",
          "PIG5",
          "PIG6",
          "PIG7",
          "PIG8",
          "PIG9",
          "PIG10",
          "PIG11",
          "PIG12"
         ],
         "xaxis": "x",
         "y": [
          "ENSSSCG00000042596",
          "ENSSSCG00000052199",
          "ENSSSCG00000002423",
          "ENSSSCG00000007453",
          "ENSSSCG00000008090",
          "ENSSSCG00000015579",
          "ENSSSCG00000040725",
          "ENSSSCG00000049017",
          "ENSSSCG00000029675",
          "ENSSSCG00000013575",
          "ENSSSCG00000014983",
          "ENSSSCG00000031240",
          "ENSSSCG00000056562",
          "ENSSSCG00000014987",
          "ENSSSCG00000014985",
          "ENSSSCG00000007384",
          "ENSSSCG00000031377",
          "ENSSSCG00000038606",
          "ENSSSCG00000014843",
          "ENSSSCG00000007385",
          "ENSSSCG00000052569",
          "ENSSSCG00000049168",
          "ENSSSCG00000017522",
          "ENSSSCG00000033906",
          "ENSSSCG00000032123",
          "ENSSSCG00000023333",
          "ENSSSCG00000038057",
          "ENSSSCG00000008118",
          "ENSSSCG00000034282",
          "ENSSSCG00000009444",
          "ENSSSCG00000062214",
          "ENSSSCG00000053247",
          "ENSSSCG00000036157",
          "ENSSSCG00000010337",
          "ENSSSCG00000063372",
          "ENSSSCG00000035053",
          "ENSSSCG00000054694",
          "ENSSSCG00000024320",
          "ENSSSCG00000062960",
          "ENSSSCG00000042861",
          "ENSSSCG00000024067",
          "ENSSSCG00000009561",
          "ENSSSCG00000004573",
          "ENSSSCG00000040947",
          "ENSSSCG00000033675",
          "ENSSSCG00000038515",
          "ENSSSCG00000051187",
          "ENSSSCG00000011147",
          "ENSSSCG00000042264",
          "ENSSSCG00000004890",
          "ENSSSCG00000057215",
          "ENSSSCG00000014988",
          "ENSSSCG00000059078",
          "ENSSSCG00000034260",
          "ENSSSCG00000050270",
          "ENSSSCG00000045608",
          "ENSSSCG00000033382",
          "ENSSSCG00000056651",
          "ENSSSCG00000037878",
          "ENSSSCG00000001748",
          "ENSSSCG00000054125",
          "ENSSSCG00000000482",
          "ENSSSCG00000034429",
          "ENSSSCG00000030879",
          "ENSSSCG00000028758",
          "ENSSSCG00000058407",
          "ENSSSCG00000008570",
          "ENSSSCG00000016254",
          "ENSSSCG00000009950",
          "ENSSSCG00000060146",
          "ENSSSCG00000063179",
          "ENSSSCG00000060202",
          "ENSSSCG00000023128",
          "ENSSSCG00000052552",
          "ENSSSCG00000007836",
          "ENSSSCG00000048380",
          "ENSSSCG00000020927",
          "ENSSSCG00000011904",
          "ENSSSCG00000045126",
          "ENSSSCG00000055507",
          "ENSSSCG00000038929",
          "ENSSSCG00000025208",
          "ENSSSCG00000013067",
          "ENSSSCG00000028627",
          "ENSSSCG00000000664",
          "ENSSSCG00000008834",
          "ENSSSCG00000021003",
          "ENSSSCG00000058337",
          "ENSSSCG00000052498",
          "ENSSSCG00000033114",
          "ENSSSCG00000006579",
          "ENSSSCG00000035964",
          "ENSSSCG00000007260",
          "ENSSSCG00000053832",
          "ENSSSCG00000002294",
          "ENSSSCG00000039573",
          "ENSSSCG00000055501",
          "ENSSSCG00000038182",
          "ENSSSCG00000038233",
          "ENSSSCG00000003832",
          "ENSSSCG00000034731",
          "ENSSSCG00000003048",
          "ENSSSCG00000000289",
          "ENSSSCG00000015299",
          "ENSSSCG00000013102",
          "ENSSSCG00000036342",
          "ENSSSCG00000016184",
          "ENSSSCG00000036865",
          "ENSSSCG00000025795",
          "ENSSSCG00000013842",
          "ENSSSCG00000033251",
          "ENSSSCG00000037735",
          "ENSSSCG00000001993",
          "ENSSSCG00000033207",
          "ENSSSCG00000012066",
          "ENSSSCG00000000918",
          "ENSSSCG00000005638",
          "ENSSSCG00000061605",
          "ENSSSCG00000008959",
          "ENSSSCG00000015477",
          "ENSSSCG00000005986",
          "ENSSSCG00000006590",
          "ENSSSCG00000008957",
          "ENSSSCG00000032857",
          "ENSSSCG00000006588",
          "ENSSSCG00000060276",
          "ENSSSCG00000060939",
          "ENSSSCG00000033457",
          "ENSSSCG00000010293",
          "ENSSSCG00000022337",
          "ENSSSCG00000015662",
          "ENSSSCG00000015717",
          "ENSSSCG00000004643",
          "ENSSSCG00000031242",
          "ENSSSCG00000033183",
          "ENSSSCG00000028331",
          "ENSSSCG00000003483",
          "ENSSSCG00000004195",
          "ENSSSCG00000011128",
          "ENSSSCG00000003753",
          "ENSSSCG00000015476",
          "ENSSSCG00000008953",
          "ENSSSCG00000039214",
          "ENSSSCG00000009469",
          "ENSSSCG00000000291",
          "ENSSSCG00000029879",
          "ENSSSCG00000020970",
          "ENSSSCG00000036474",
          "ENSSSCG00000035428",
          "ENSSSCG00000039365",
          "ENSSSCG00000037358",
          "ENSSSCG00000058261",
          "ENSSSCG00000034356",
          "ENSSSCG00000008769",
          "ENSSSCG00000058083",
          "ENSSSCG00000011700",
          "ENSSSCG00000061897",
          "ENSSSCG00000053058",
          "ENSSSCG00000011627",
          "ENSSSCG00000004096",
          "ENSSSCG00000025527",
          "ENSSSCG00000003482",
          "ENSSSCG00000002814",
          "ENSSSCG00000038418",
          "ENSSSCG00000013556",
          "ENSSSCG00000033146",
          "ENSSSCG00000004180",
          "ENSSSCG00000037426",
          "ENSSSCG00000030681",
          "ENSSSCG00000027903",
          "ENSSSCG00000044986",
          "ENSSSCG00000030076",
          "ENSSSCG00000054318",
          "ENSSSCG00000035226",
          "ENSSSCG00000053244",
          "ENSSSCG00000061874",
          "ENSSSCG00000043705",
          "ENSSSCG00000052177",
          "ENSSSCG00000048861",
          "ENSSSCG00000039956",
          "ENSSSCG00000012427",
          "ENSSSCG00000033313",
          "ENSSSCG00000058745",
          "ENSSSCG00000059531",
          "ENSSSCG00000060149",
          "ENSSSCG00000032419",
          "ENSSSCG00000032342",
          "ENSSSCG00000053901",
          "ENSSSCG00000032557",
          "ENSSSCG00000011673",
          "ENSSSCG00000052456",
          "ENSSSCG00000033640",
          "ENSSSCG00000035756",
          "ENSSSCG00000007499",
          "ENSSSCG00000051229",
          "ENSSSCG00000009144",
          "ENSSSCG00000008634",
          "ENSSSCG00000024588",
          "ENSSSCG00000013333",
          "ENSSSCG00000053471",
          "ENSSSCG00000023918",
          "ENSSSCG00000016410",
          "ENSSSCG00000031478",
          "ENSSSCG00000038135",
          "ENSSSCG00000040849",
          "ENSSSCG00000060464",
          "ENSSSCG00000057781",
          "ENSSSCG00000026407",
          "ENSSSCG00000042139",
          "ENSSSCG00000013344",
          "ENSSSCG00000016314",
          "ENSSSCG00000061705",
          "ENSSSCG00000039276",
          "ENSSSCG00000036118",
          "ENSSSCG00000019018",
          "ENSSSCG00000037620",
          "ENSSSCG00000031177",
          "ENSSSCG00000027439",
          "ENSSSCG00000047799",
          "ENSSSCG00000053857",
          "ENSSSCG00000015926",
          "ENSSSCG00000009100",
          "ENSSSCG00000046385",
          "ENSSSCG00000012967",
          "ENSSSCG00000009474",
          "ENSSSCG00000035524",
          "ENSSSCG00000006796",
          "ENSSSCG00000017490",
          "ENSSSCG00000040720",
          "ENSSSCG00000017262",
          "ENSSSCG00000056481",
          "ENSSSCG00000030552",
          "ENSSSCG00000003565",
          "ENSSSCG00000050056",
          "ENSSSCG00000023852",
          "ENSSSCG00000021728",
          "ENSSSCG00000000932",
          "ENSSSCG00000000577",
          "ENSSSCG00000032525",
          "ENSSSCG00000000492",
          "ENSSSCG00000038792",
          "ENSSSCG00000054293",
          "ENSSSCG00000044784",
          "ENSSSCG00000046234",
          "ENSSSCG00000026137",
          "ENSSSCG00000053566",
          "ENSSSCG00000003754",
          "ENSSSCG00000034488",
          "ENSSSCG00000023181",
          "ENSSSCG00000046958",
          "ENSSSCG00000010334",
          "ENSSSCG00000000871",
          "ENSSSCG00000026852",
          "ENSSSCG00000056860",
          "ENSSSCG00000007231",
          "ENSSSCG00000008421",
          "ENSSSCG00000031345",
          "ENSSSCG00000060429",
          "ENSSSCG00000056733",
          "ENSSSCG00000053216",
          "ENSSSCG00000053842",
          "ENSSSCG00000021585",
          "ENSSSCG00000054576",
          "ENSSSCG00000010747",
          "ENSSSCG00000058280",
          "ENSSSCG00000040795",
          "ENSSSCG00000029515",
          "ENSSSCG00000054626",
          "ENSSSCG00000061701",
          "ENSSSCG00000049066",
          "ENSSSCG00000034474",
          "ENSSSCG00000040904",
          "ENSSSCG00000058975",
          "ENSSSCG00000001908",
          "ENSSSCG00000040798",
          "ENSSSCG00000055257",
          "ENSSSCG00000056742",
          "ENSSSCG00000002490",
          "ENSSSCG00000040164",
          "ENSSSCG00000002033",
          "ENSSSCG00000062443",
          "ENSSSCG00000048831",
          "ENSSSCG00000040681",
          "ENSSSCG00000002720",
          "ENSSSCG00000027266",
          "ENSSSCG00000007538",
          "ENSSSCG00000006812",
          "ENSSSCG00000001798",
          "ENSSSCG00000024024",
          "ENSSSCG00000006455",
          "ENSSSCG00000036122",
          "ENSSSCG00000040329",
          "ENSSSCG00000012549",
          "ENSSSCG00000052907",
          "ENSSSCG00000039553",
          "ENSSSCG00000058412",
          "ENSSSCG00000017299",
          "ENSSSCG00000013369",
          "ENSSSCG00000029289",
          "ENSSSCG00000060279",
          "ENSSSCG00000015716",
          "ENSSSCG00000033844",
          "ENSSSCG00000037579",
          "ENSSSCG00000011625",
          "ENSSSCG00000010479",
          "ENSSSCG00000005584",
          "ENSSSCG00000011727",
          "ENSSSCG00000012584",
          "ENSSSCG00000057287",
          "ENSSSCG00000005233",
          "ENSSSCG00000021767",
          "ENSSSCG00000013316",
          "ENSSSCG00000029449",
          "ENSSSCG00000002749",
          "ENSSSCG00000038644",
          "ENSSSCG00000009655",
          "ENSSSCG00000016129",
          "ENSSSCG00000037524",
          "ENSSSCG00000013093",
          "ENSSSCG00000039300",
          "ENSSSCG00000006678",
          "ENSSSCG00000052306",
          "ENSSSCG00000010273",
          "ENSSSCG00000040464",
          "ENSSSCG00000042677",
          "ENSSSCG00000052670",
          "ENSSSCG00000054556",
          "ENSSSCG00000062241",
          "ENSSSCG00000052117",
          "ENSSSCG00000042794",
          "ENSSSCG00000051948",
          "ENSSSCG00000052675",
          "ENSSSCG00000059131",
          "ENSSSCG00000054571",
          "ENSSSCG00000054755",
          "ENSSSCG00000040752",
          "ENSSSCG00000038148",
          "ENSSSCG00000046948",
          "ENSSSCG00000026317",
          "ENSSSCG00000016627",
          "ENSSSCG00000050870",
          "ENSSSCG00000017084",
          "ENSSSCG00000026453",
          "ENSSSCG00000011002",
          "ENSSSCG00000032810",
          "ENSSSCG00000022105",
          "ENSSSCG00000015294",
          "ENSSSCG00000006458",
          "ENSSSCG00000028674",
          "ENSSSCG00000039007",
          "ENSSSCG00000037292",
          "ENSSSCG00000007486",
          "ENSSSCG00000000240",
          "ENSSSCG00000056332",
          "ENSSSCG00000013148",
          "ENSSSCG00000057351",
          "ENSSSCG00000060233",
          "ENSSSCG00000024058",
          "ENSSSCG00000030515",
          "ENSSSCG00000007899",
          "ENSSSCG00000008522",
          "ENSSSCG00000055437",
          "ENSSSCG00000059757",
          "ENSSSCG00000059516",
          "ENSSSCG00000059354",
          "ENSSSCG00000041729",
          "ENSSSCG00000062883",
          "ENSSSCG00000016182",
          "ENSSSCG00000034866",
          "ENSSSCG00000041481",
          "ENSSSCG00000030262",
          "ENSSSCG00000051882",
          "ENSSSCG00000022089",
          "ENSSSCG00000056712",
          "ENSSSCG00000043078",
          "ENSSSCG00000004836",
          "ENSSSCG00000008001",
          "ENSSSCG00000024249",
          "ENSSSCG00000033541",
          "ENSSSCG00000005257",
          "ENSSSCG00000058232",
          "ENSSSCG00000063294",
          "ENSSSCG00000007564",
          "ENSSSCG00000061471",
          "ENSSSCG00000017801",
          "ENSSSCG00000033822",
          "ENSSSCG00000001487",
          "ENSSSCG00000007346",
          "ENSSSCG00000048083",
          "ENSSSCG00000000151",
          "ENSSSCG00000060225",
          "ENSSSCG00000012138",
          "ENSSSCG00000041127",
          "ENSSSCG00000051633",
          "ENSSSCG00000013579",
          "ENSSSCG00000048756",
          "ENSSSCG00000052737",
          "ENSSSCG00000060123",
          "ENSSSCG00000047139",
          "ENSSSCG00000057451",
          "ENSSSCG00000061669",
          "ENSSSCG00000046916",
          "ENSSSCG00000061427",
          "ENSSSCG00000059703",
          "ENSSSCG00000053166",
          "ENSSSCG00000030374",
          "ENSSSCG00000049143",
          "ENSSSCG00000055308",
          "ENSSSCG00000062216",
          "ENSSSCG00000002782",
          "ENSSSCG00000053413",
          "ENSSSCG00000050517",
          "ENSSSCG00000061956",
          "ENSSSCG00000051922",
          "ENSSSCG00000014418",
          "ENSSSCG00000059738",
          "ENSSSCG00000056287",
          "ENSSSCG00000055653",
          "ENSSSCG00000010190",
          "ENSSSCG00000052848",
          "ENSSSCG00000043728",
          "ENSSSCG00000042993",
          "ENSSSCG00000032321",
          "ENSSSCG00000039940",
          "ENSSSCG00000005456",
          "ENSSSCG00000060491",
          "ENSSSCG00000032720",
          "ENSSSCG00000010144",
          "ENSSSCG00000049915",
          "ENSSSCG00000055142",
          "ENSSSCG00000058353",
          "ENSSSCG00000046454",
          "ENSSSCG00000051963",
          "ENSSSCG00000055530",
          "ENSSSCG00000045853",
          "ENSSSCG00000044367",
          "ENSSSCG00000059744",
          "ENSSSCG00000051981",
          "ENSSSCG00000042836",
          "ENSSSCG00000061062",
          "ENSSSCG00000062908",
          "ENSSSCG00000002479",
          "ENSSSCG00000014079",
          "ENSSSCG00000052158",
          "ENSSSCG00000054363",
          "ENSSSCG00000055193",
          "ENSSSCG00000061197",
          "ENSSSCG00000054423",
          "ENSSSCG00000053367",
          "ENSSSCG00000051832",
          "ENSSSCG00000058660",
          "ENSSSCG00000062295",
          "ENSSSCG00000046518",
          "ENSSSCG00000037214",
          "ENSSSCG00000053507",
          "ENSSSCG00000014053",
          "ENSSSCG00000061093",
          "ENSSSCG00000058916",
          "ENSSSCG00000056393",
          "ENSSSCG00000058912",
          "ENSSSCG00000062031",
          "ENSSSCG00000043035",
          "ENSSSCG00000034405",
          "ENSSSCG00000045303",
          "ENSSSCG00000057256",
          "ENSSSCG00000053492",
          "ENSSSCG00000038709",
          "ENSSSCG00000033927",
          "ENSSSCG00000063545",
          "ENSSSCG00000010444",
          "ENSSSCG00000056064",
          "ENSSSCG00000040768",
          "ENSSSCG00000056925",
          "ENSSSCG00000056000",
          "ENSSSCG00000062421",
          "ENSSSCG00000061794",
          "ENSSSCG00000056095",
          "ENSSSCG00000060034",
          "ENSSSCG00000059280",
          "ENSSSCG00000058141",
          "ENSSSCG00000062495",
          "ENSSSCG00000050674",
          "ENSSSCG00000027454",
          "ENSSSCG00000017763",
          "ENSSSCG00000051910",
          "ENSSSCG00000008978",
          "ENSSSCG00000017755",
          "ENSSSCG00000062441",
          "ENSSSCG00000060272",
          "ENSSSCG00000055050",
          "ENSSSCG00000025071",
          "ENSSSCG00000053979",
          "ENSSSCG00000041045",
          "ENSSSCG00000022261",
          "ENSSSCG00000046881",
          "ENSSSCG00000010451",
          "ENSSSCG00000054437",
          "ENSSSCG00000032588",
          "ENSSSCG00000050110",
          "ENSSSCG00000046640",
          "ENSSSCG00000001636",
          "ENSSSCG00000015980",
          "ENSSSCG00000017135",
          "ENSSSCG00000054466",
          "ENSSSCG00000009610",
          "ENSSSCG00000051934",
          "ENSSSCG00000030271",
          "ENSSSCG00000036961",
          "ENSSSCG00000052011",
          "ENSSSCG00000056817",
          "ENSSSCG00000060494",
          "ENSSSCG00000062265",
          "ENSSSCG00000055430",
          "ENSSSCG00000060966",
          "ENSSSCG00000022305",
          "ENSSSCG00000008994",
          "ENSSSCG00000057909",
          "ENSSSCG00000005616",
          "ENSSSCG00000041524",
          "ENSSSCG00000052271",
          "ENSSSCG00000058247",
          "ENSSSCG00000052899",
          "ENSSSCG00000060883",
          "ENSSSCG00000059015",
          "ENSSSCG00000000610",
          "ENSSSCG00000060714",
          "ENSSSCG00000052407",
          "ENSSSCG00000044132",
          "ENSSSCG00000055621",
          "ENSSSCG00000054017",
          "ENSSSCG00000047254",
          "ENSSSCG00000043991",
          "ENSSSCG00000057560",
          "ENSSSCG00000060194",
          "ENSSSCG00000062273",
          "ENSSSCG00000054604",
          "ENSSSCG00000053588",
          "ENSSSCG00000056903",
          "ENSSSCG00000057379",
          "ENSSSCG00000048555",
          "ENSSSCG00000040413",
          "ENSSSCG00000060064",
          "ENSSSCG00000058910",
          "ENSSSCG00000055185",
          "ENSSSCG00000005463",
          "ENSSSCG00000038892",
          "ENSSSCG00000051458",
          "ENSSSCG00000060691",
          "ENSSSCG00000008725",
          "ENSSSCG00000049533",
          "ENSSSCG00000055709",
          "ENSSSCG00000062723",
          "ENSSSCG00000052226",
          "ENSSSCG00000053893",
          "ENSSSCG00000058844",
          "ENSSSCG00000056896",
          "ENSSSCG00000055720",
          "ENSSSCG00000062233",
          "ENSSSCG00000030800",
          "ENSSSCG00000014759",
          "ENSSSCG00000014760",
          "ENSSSCG00000043015",
          "ENSSSCG00000045042",
          "ENSSSCG00000056091",
          "ENSSSCG00000053634",
          "ENSSSCG00000062549",
          "ENSSSCG00000048026",
          "ENSSSCG00000043251",
          "ENSSSCG00000060948",
          "ENSSSCG00000014755",
          "ENSSSCG00000047547",
          "ENSSSCG00000062817",
          "ENSSSCG00000053253",
          "ENSSSCG00000053561",
          "ENSSSCG00000061264",
          "ENSSSCG00000055361",
          "ENSSSCG00000060650",
          "ENSSSCG00000053217",
          "ENSSSCG00000062810",
          "ENSSSCG00000045101",
          "ENSSSCG00000061916",
          "ENSSSCG00000063451",
          "ENSSSCG00000057147",
          "ENSSSCG00000061634",
          "ENSSSCG00000059430",
          "ENSSSCG00000053871",
          "ENSSSCG00000062485",
          "ENSSSCG00000021902",
          "ENSSSCG00000058926",
          "ENSSSCG00000003431",
          "ENSSSCG00000038990",
          "ENSSSCG00000040687",
          "ENSSSCG00000004433",
          "ENSSSCG00000013934",
          "ENSSSCG00000010581",
          "ENSSSCG00000012773",
          "ENSSSCG00000027875",
          "ENSSSCG00000053199",
          "ENSSSCG00000016799",
          "ENSSSCG00000005167",
          "ENSSSCG00000060340",
          "ENSSSCG00000015711",
          "ENSSSCG00000033922",
          "ENSSSCG00000057369",
          "ENSSSCG00000061683",
          "ENSSSCG00000054551",
          "ENSSSCG00000036132",
          "ENSSSCG00000025996",
          "ENSSSCG00000034701",
          "ENSSSCG00000037477",
          "ENSSSCG00000013617",
          "ENSSSCG00000023592",
          "ENSSSCG00000062602",
          "ENSSSCG00000032653",
          "ENSSSCG00000016972",
          "ENSSSCG00000009952",
          "ENSSSCG00000028942",
          "ENSSSCG00000061290",
          "ENSSSCG00000004803",
          "ENSSSCG00000010232",
          "ENSSSCG00000059595",
          "ENSSSCG00000026333",
          "ENSSSCG00000056282",
          "ENSSSCG00000053119",
          "ENSSSCG00000038269",
          "ENSSSCG00000020986",
          "ENSSSCG00000049196",
          "ENSSSCG00000053465",
          "ENSSSCG00000057201",
          "ENSSSCG00000055970",
          "ENSSSCG00000052295",
          "ENSSSCG00000012030",
          "ENSSSCG00000057792",
          "ENSSSCG00000027091",
          "ENSSSCG00000000638",
          "ENSSSCG00000025052",
          "ENSSSCG00000044522",
          "ENSSSCG00000057356",
          "ENSSSCG00000056948",
          "ENSSSCG00000059734",
          "ENSSSCG00000003459",
          "ENSSSCG00000053814",
          "ENSSSCG00000054248",
          "ENSSSCG00000004355",
          "ENSSSCG00000060129",
          "ENSSSCG00000012071",
          "ENSSSCG00000032124",
          "ENSSSCG00000035929",
          "ENSSSCG00000055296",
          "ENSSSCG00000025885",
          "ENSSSCG00000059404",
          "ENSSSCG00000060485",
          "ENSSSCG00000031979",
          "ENSSSCG00000050765",
          "ENSSSCG00000056610",
          "ENSSSCG00000032599",
          "ENSSSCG00000056134",
          "ENSSSCG00000062318",
          "ENSSSCG00000060671",
          "ENSSSCG00000060255",
          "ENSSSCG00000063484",
          "ENSSSCG00000051191",
          "ENSSSCG00000047974",
          "ENSSSCG00000049388",
          "ENSSSCG00000053978",
          "ENSSSCG00000043546",
          "ENSSSCG00000062547",
          "ENSSSCG00000056565",
          "ENSSSCG00000056089",
          "ENSSSCG00000058948",
          "ENSSSCG00000028670",
          "ENSSSCG00000059959",
          "ENSSSCG00000062901",
          "ENSSSCG00000061672",
          "ENSSSCG00000009665",
          "ENSSSCG00000044295",
          "ENSSSCG00000052559",
          "ENSSSCG00000054215",
          "ENSSSCG00000040850",
          "ENSSSCG00000010884",
          "ENSSSCG00000041066",
          "ENSSSCG00000016640",
          "ENSSSCG00000020750",
          "ENSSSCG00000000184",
          "ENSSSCG00000012600",
          "ENSSSCG00000007861",
          "ENSSSCG00000030821",
          "ENSSSCG00000043327",
          "ENSSSCG00000020694",
          "ENSSSCG00000017037",
          "ENSSSCG00000058425",
          "ENSSSCG00000017556",
          "ENSSSCG00000036815",
          "ENSSSCG00000009564",
          "ENSSSCG00000011441",
          "ENSSSCG00000043074",
          "ENSSSCG00000007691",
          "ENSSSCG00000040377",
          "ENSSSCG00000015098",
          "ENSSSCG00000004699",
          "ENSSSCG00000036086",
          "ENSSSCG00000021812",
          "ENSSSCG00000009673",
          "ENSSSCG00000052062",
          "ENSSSCG00000040042",
          "ENSSSCG00000015898",
          "ENSSSCG00000000667",
          "ENSSSCG00000009543",
          "ENSSSCG00000011878",
          "ENSSSCG00000045237",
          "ENSSSCG00000000983",
          "ENSSSCG00000030371",
          "ENSSSCG00000031595",
          "ENSSSCG00000025560",
          "ENSSSCG00000057082",
          "ENSSSCG00000015126",
          "ENSSSCG00000057447",
          "ENSSSCG00000054361",
          "ENSSSCG00000024773",
          "ENSSSCG00000003145",
          "ENSSSCG00000024668",
          "ENSSSCG00000006431",
          "ENSSSCG00000010291",
          "ENSSSCG00000054116",
          "ENSSSCG00000023607",
          "ENSSSCG00000047367",
          "ENSSSCG00000036566",
          "ENSSSCG00000017358",
          "ENSSSCG00000002929",
          "ENSSSCG00000008661",
          "ENSSSCG00000037259",
          "ENSSSCG00000030874",
          "ENSSSCG00000013733",
          "ENSSSCG00000045982",
          "ENSSSCG00000038719",
          "ENSSSCG00000056654",
          "ENSSSCG00000032301",
          "ENSSSCG00000003248",
          "ENSSSCG00000025772",
          "ENSSSCG00000063392",
          "ENSSSCG00000059630",
          "ENSSSCG00000062467",
          "ENSSSCG00000040770",
          "ENSSSCG00000004491",
          "ENSSSCG00000051238",
          "ENSSSCG00000013376",
          "ENSSSCG00000055546",
          "ENSSSCG00000056185",
          "ENSSSCG00000012589",
          "ENSSSCG00000039341",
          "ENSSSCG00000010182",
          "ENSSSCG00000039413",
          "ENSSSCG00000049086",
          "ENSSSCG00000058897",
          "ENSSSCG00000049625",
          "ENSSSCG00000042147",
          "ENSSSCG00000054357",
          "ENSSSCG00000045335",
          "ENSSSCG00000063399",
          "ENSSSCG00000061073",
          "ENSSSCG00000050592",
          "ENSSSCG00000061922",
          "ENSSSCG00000061234",
          "ENSSSCG00000032777",
          "ENSSSCG00000062296",
          "ENSSSCG00000058730",
          "ENSSSCG00000011735",
          "ENSSSCG00000041215",
          "ENSSSCG00000035033",
          "ENSSSCG00000006932",
          "ENSSSCG00000011875",
          "ENSSSCG00000032019",
          "ENSSSCG00000029043",
          "ENSSSCG00000055151",
          "ENSSSCG00000016437",
          "ENSSSCG00000037430",
          "ENSSSCG00000058495",
          "ENSSSCG00000008319",
          "ENSSSCG00000001906",
          "ENSSSCG00000057692",
          "ENSSSCG00000058093",
          "ENSSSCG00000061107",
          "ENSSSCG00000001849",
          "ENSSSCG00000059575",
          "ENSSSCG00000062005",
          "ENSSSCG00000038275",
          "ENSSSCG00000052765",
          "ENSSSCG00000043913",
          "ENSSSCG00000011186",
          "ENSSSCG00000060392",
          "ENSSSCG00000050565",
          "ENSSSCG00000058887",
          "ENSSSCG00000053823",
          "ENSSSCG00000060409",
          "ENSSSCG00000052485",
          "ENSSSCG00000041827",
          "ENSSSCG00000037885",
          "ENSSSCG00000027409",
          "ENSSSCG00000022865",
          "ENSSSCG00000063410",
          "ENSSSCG00000054544",
          "ENSSSCG00000059688",
          "ENSSSCG00000061196",
          "ENSSSCG00000047110",
          "ENSSSCG00000058958",
          "ENSSSCG00000043573",
          "ENSSSCG00000063409",
          "ENSSSCG00000049959",
          "ENSSSCG00000048106",
          "ENSSSCG00000052013",
          "ENSSSCG00000063369",
          "ENSSSCG00000053879",
          "ENSSSCG00000054445",
          "ENSSSCG00000052620",
          "ENSSSCG00000044306",
          "ENSSSCG00000042384",
          "ENSSSCG00000059704",
          "ENSSSCG00000057732",
          "ENSSSCG00000049553",
          "ENSSSCG00000061090",
          "ENSSSCG00000047160",
          "ENSSSCG00000052836",
          "ENSSSCG00000059291",
          "ENSSSCG00000047218",
          "ENSSSCG00000052291",
          "ENSSSCG00000055395",
          "ENSSSCG00000057955",
          "ENSSSCG00000056075",
          "ENSSSCG00000063328",
          "ENSSSCG00000061186",
          "ENSSSCG00000055737",
          "ENSSSCG00000032135",
          "ENSSSCG00000058612",
          "ENSSSCG00000059032",
          "ENSSSCG00000054195",
          "ENSSSCG00000062725",
          "ENSSSCG00000054664",
          "ENSSSCG00000048189",
          "ENSSSCG00000044936",
          "ENSSSCG00000041744",
          "ENSSSCG00000058638",
          "ENSSSCG00000057121",
          "ENSSSCG00000059839",
          "ENSSSCG00000043392",
          "ENSSSCG00000022269",
          "ENSSSCG00000063505",
          "ENSSSCG00000051816",
          "ENSSSCG00000062362",
          "ENSSSCG00000049263",
          "ENSSSCG00000014110",
          "ENSSSCG00000054243",
          "ENSSSCG00000055671",
          "ENSSSCG00000060927",
          "ENSSSCG00000054841",
          "ENSSSCG00000059445",
          "ENSSSCG00000013236",
          "ENSSSCG00000053911",
          "ENSSSCG00000040715",
          "ENSSSCG00000055748",
          "ENSSSCG00000008802",
          "ENSSSCG00000059875",
          "ENSSSCG00000060316",
          "ENSSSCG00000056606",
          "ENSSSCG00000061219",
          "ENSSSCG00000056822",
          "ENSSSCG00000022467",
          "ENSSSCG00000031352",
          "ENSSSCG00000028944",
          "ENSSSCG00000013056",
          "ENSSSCG00000031771",
          "ENSSSCG00000039103",
          "ENSSSCG00000001844",
          "ENSSSCG00000046509",
          "ENSSSCG00000042074",
          "ENSSSCG00000061415",
          "ENSSSCG00000057718",
          "ENSSSCG00000039508",
          "ENSSSCG00000042172",
          "ENSSSCG00000056067",
          "ENSSSCG00000061175",
          "ENSSSCG00000060829",
          "ENSSSCG00000051174",
          "ENSSSCG00000044510",
          "ENSSSCG00000055801",
          "ENSSSCG00000061492",
          "ENSSSCG00000052007",
          "ENSSSCG00000055910",
          "ENSSSCG00000054783",
          "ENSSSCG00000050520",
          "ENSSSCG00000057118",
          "ENSSSCG00000061993",
          "ENSSSCG00000055704",
          "ENSSSCG00000052414",
          "ENSSSCG00000058882",
          "ENSSSCG00000062430",
          "ENSSSCG00000062289",
          "ENSSSCG00000055856",
          "ENSSSCG00000062213",
          "ENSSSCG00000061782",
          "ENSSSCG00000057869",
          "ENSSSCG00000063010",
          "ENSSSCG00000049042",
          "ENSSSCG00000057175",
          "ENSSSCG00000015544",
          "ENSSSCG00000060403",
          "ENSSSCG00000056043",
          "ENSSSCG00000062820",
          "ENSSSCG00000042339",
          "ENSSSCG00000063183",
          "ENSSSCG00000059769",
          "ENSSSCG00000049223",
          "ENSSSCG00000050100",
          "ENSSSCG00000061129",
          "ENSSSCG00000052416",
          "ENSSSCG00000021813",
          "ENSSSCG00000031865",
          "ENSSSCG00000000709",
          "ENSSSCG00000005852",
          "ENSSSCG00000059192",
          "ENSSSCG00000002524",
          "ENSSSCG00000000718",
          "ENSSSCG00000057484",
          "ENSSSCG00000024204",
          "ENSSSCG00000034735",
          "ENSSSCG00000061846",
          "ENSSSCG00000062378",
          "ENSSSCG00000059385",
          "ENSSSCG00000004017",
          "ENSSSCG00000057473",
          "ENSSSCG00000001441",
          "ENSSSCG00000023546",
          "ENSSSCG00000044783",
          "ENSSSCG00000011802",
          "ENSSSCG00000063342",
          "ENSSSCG00000049766",
          "ENSSSCG00000026478",
          "ENSSSCG00000036449",
          "ENSSSCG00000038300",
          "ENSSSCG00000012219",
          "ENSSSCG00000004436",
          "ENSSSCG00000002709",
          "ENSSSCG00000003732",
          "ENSSSCG00000062117",
          "ENSSSCG00000035074",
          "ENSSSCG00000000875",
          "ENSSSCG00000003970",
          "ENSSSCG00000039095",
          "ENSSSCG00000042972",
          "ENSSSCG00000016469",
          "ENSSSCG00000009921",
          "ENSSSCG00000009720",
          "ENSSSCG00000016284",
          "ENSSSCG00000014323",
          "ENSSSCG00000052914",
          "ENSSSCG00000042913",
          "ENSSSCG00000040648",
          "ENSSSCG00000024973",
          "ENSSSCG00000006923",
          "ENSSSCG00000009881",
          "ENSSSCG00000030801",
          "ENSSSCG00000061268",
          "ENSSSCG00000012077",
          "ENSSSCG00000030408",
          "ENSSSCG00000037572",
          "ENSSSCG00000040575",
          "ENSSSCG00000023379",
          "ENSSSCG00000059776",
          "ENSSSCG00000058696",
          "ENSSSCG00000013060",
          "ENSSSCG00000032474",
          "ENSSSCG00000023737",
          "ENSSSCG00000035297",
          "ENSSSCG00000034570",
          "ENSSSCG00000017062",
          "ENSSSCG00000052602",
          "ENSSSCG00000033745",
          "ENSSSCG00000010452",
          "ENSSSCG00000003763",
          "ENSSSCG00000059088",
          "ENSSSCG00000008647",
          "ENSSSCG00000008648",
          "ENSSSCG00000017416",
          "ENSSSCG00000061023",
          "ENSSSCG00000000148",
          "ENSSSCG00000056284",
          "ENSSSCG00000001252",
          "ENSSSCG00000050087",
          "ENSSSCG00000058619",
          "ENSSSCG00000059419",
          "ENSSSCG00000022140",
          "ENSSSCG00000032280",
          "ENSSSCG00000015654",
          "ENSSSCG00000002483",
          "ENSSSCG00000014982",
          "ENSSSCG00000013976",
          "ENSSSCG00000030960",
          "ENSSSCG00000053038",
          "ENSSSCG00000035919",
          "ENSSSCG00000039344",
          "ENSSSCG00000056764"
         ],
         "yaxis": "y",
         "z": {
          "bdata": "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",
          "dtype": "f8",
          "shape": "1000, 12"
         }
        }
       ],
       "layout": {
        "coloraxis": {
         "cmax": 5,
         "cmin": -5,
         "colorbar": {
          "title": {
           "text": "Expression Level"
          }
         },
         "colorscale": [
          [
           0,
           "rgb(5,48,97)"
          ],
          [
           0.1,
           "rgb(33,102,172)"
          ],
          [
           0.2,
           "rgb(67,147,195)"
          ],
          [
           0.3,
           "rgb(146,197,222)"
          ],
          [
           0.4,
           "rgb(209,229,240)"
          ],
          [
           0.5,
           "rgb(247,247,247)"
          ],
          [
           0.6,
           "rgb(253,219,199)"
          ],
          [
           0.7,
           "rgb(244,165,130)"
          ],
          [
           0.8,
           "rgb(214,96,77)"
          ],
          [
           0.9,
           "rgb(178,24,43)"
          ],
          [
           1,
           "rgb(103,0,31)"
          ]
         ]
        },
        "height": 800,
        "margin": {
         "t": 60
        },
        "template": {
         "data": {
          "bar": [
           {
            "error_x": {
             "color": "#2a3f5f"
            },
            "error_y": {
             "color": "#2a3f5f"
            },
            "marker": {
             "line": {
              "color": "#E5ECF6",
              "width": 0.5
             },
             "pattern": {
              "fillmode": "overlay",
              "size": 10,
              "solidity": 0.2
             }
            },
            "type": "bar"
           }
          ],
          "barpolar": [
           {
            "marker": {
             "line": {
              "color": "#E5ECF6",
              "width": 0.5
             },
             "pattern": {
              "fillmode": "overlay",
              "size": 10,
              "solidity": 0.2
             }
            },
            "type": "barpolar"
           }
          ],
          "carpet": [
           {
            "aaxis": {
             "endlinecolor": "#2a3f5f",
             "gridcolor": "white",
             "linecolor": "white",
             "minorgridcolor": "white",
             "startlinecolor": "#2a3f5f"
            },
            "baxis": {
             "endlinecolor": "#2a3f5f",
             "gridcolor": "white",
             "linecolor": "white",
             "minorgridcolor": "white",
             "startlinecolor": "#2a3f5f"
            },
            "type": "carpet"
           }
          ],
          "choropleth": [
           {
            "colorbar": {
             "outlinewidth": 0,
             "ticks": ""
            },
            "type": "choropleth"
           }
          ],
          "contour": [
           {
            "colorbar": {
             "outlinewidth": 0,
             "ticks": ""
            },
            "colorscale": [
             [
              0,
              "#0d0887"
             ],
             [
              0.1111111111111111,
              "#46039f"
             ],
             [
              0.2222222222222222,
              "#7201a8"
             ],
             [
              0.3333333333333333,
              "#9c179e"
             ],
             [
              0.4444444444444444,
              "#bd3786"
             ],
             [
              0.5555555555555556,
              "#d8576b"
             ],
             [
              0.6666666666666666,
              "#ed7953"
             ],
             [
              0.7777777777777778,
              "#fb9f3a"
             ],
             [
              0.8888888888888888,
              "#fdca26"
             ],
             [
              1,
              "#f0f921"
             ]
            ],
            "type": "contour"
           }
          ],
          "contourcarpet": [
           {
            "colorbar": {
             "outlinewidth": 0,
             "ticks": ""
            },
            "type": "contourcarpet"
           }
          ],
          "heatmap": [
           {
            "colorbar": {
             "outlinewidth": 0,
             "ticks": ""
            },
            "colorscale": [
             [
              0,
              "#0d0887"
             ],
             [
              0.1111111111111111,
              "#46039f"
             ],
             [
              0.2222222222222222,
              "#7201a8"
             ],
             [
              0.3333333333333333,
              "#9c179e"
             ],
             [
              0.4444444444444444,
              "#bd3786"
             ],
             [
              0.5555555555555556,
              "#d8576b"
             ],
             [
              0.6666666666666666,
              "#ed7953"
             ],
             [
              0.7777777777777778,
              "#fb9f3a"
             ],
             [
              0.8888888888888888,
              "#fdca26"
             ],
             [
              1,
              "#f0f921"
             ]
            ],
            "type": "heatmap"
           }
          ],
          "histogram": [
           {
            "marker": {
             "pattern": {
              "fillmode": "overlay",
              "size": 10,
              "solidity": 0.2
             }
            },
            "type": "histogram"
           }
          ],
          "histogram2d": [
           {
            "colorbar": {
             "outlinewidth": 0,
             "ticks": ""
            },
            "colorscale": [
             [
              0,
              "#0d0887"
             ],
             [
              0.1111111111111111,
              "#46039f"
             ],
             [
              0.2222222222222222,
              "#7201a8"
             ],
             [
              0.3333333333333333,
              "#9c179e"
             ],
             [
              0.4444444444444444,
              "#bd3786"
             ],
             [
              0.5555555555555556,
              "#d8576b"
             ],
             [
              0.6666666666666666,
              "#ed7953"
             ],
             [
              0.7777777777777778,
              "#fb9f3a"
             ],
             [
              0.8888888888888888,
              "#fdca26"
             ],
             [
              1,
              "#f0f921"
             ]
            ],
            "type": "histogram2d"
           }
          ],
          "histogram2dcontour": [
           {
            "colorbar": {
             "outlinewidth": 0,
             "ticks": ""
            },
            "colorscale": [
             [
              0,
              "#0d0887"
             ],
             [
              0.1111111111111111,
              "#46039f"
             ],
             [
              0.2222222222222222,
              "#7201a8"
             ],
             [
              0.3333333333333333,
              "#9c179e"
             ],
             [
              0.4444444444444444,
              "#bd3786"
             ],
             [
              0.5555555555555556,
              "#d8576b"
             ],
             [
              0.6666666666666666,
              "#ed7953"
             ],
             [
              0.7777777777777778,
              "#fb9f3a"
             ],
             [
              0.8888888888888888,
              "#fdca26"
             ],
             [
              1,
              "#f0f921"
             ]
            ],
            "type": "histogram2dcontour"
           }
          ],
          "mesh3d": [
           {
            "colorbar": {
             "outlinewidth": 0,
             "ticks": ""
            },
            "type": "mesh3d"
           }
          ],
          "parcoords": [
           {
            "line": {
             "colorbar": {
              "outlinewidth": 0,
              "ticks": ""
             }
            },
            "type": "parcoords"
           }
          ],
          "pie": [
           {
            "automargin": true,
            "type": "pie"
           }
          ],
          "scatter": [
           {
            "fillpattern": {
             "fillmode": "overlay",
             "size": 10,
             "solidity": 0.2
            },
            "type": "scatter"
           }
          ],
          "scatter3d": [
           {
            "line": {
             "colorbar": {
              "outlinewidth": 0,
              "ticks": ""
             }
            },
            "marker": {
             "colorbar": {
              "outlinewidth": 0,
              "ticks": ""
             }
            },
            "type": "scatter3d"
           }
          ],
          "scattercarpet": [
           {
            "marker": {
             "colorbar": {
              "outlinewidth": 0,
              "ticks": ""
             }
            },
            "type": "scattercarpet"
           }
          ],
          "scattergeo": [
           {
            "marker": {
             "colorbar": {
              "outlinewidth": 0,
              "ticks": ""
             }
            },
            "type": "scattergeo"
           }
          ],
          "scattergl": [
           {
            "marker": {
             "colorbar": {
              "outlinewidth": 0,
              "ticks": ""
             }
            },
            "type": "scattergl"
           }
          ],
          "scattermap": [
           {
            "marker": {
             "colorbar": {
              "outlinewidth": 0,
              "ticks": ""
             }
            },
            "type": "scattermap"
           }
          ],
          "scattermapbox": [
           {
            "marker": {
             "colorbar": {
              "outlinewidth": 0,
              "ticks": ""
             }
            },
            "type": "scattermapbox"
           }
          ],
          "scatterpolar": [
           {
            "marker": {
             "colorbar": {
              "outlinewidth": 0,
              "ticks": ""
             }
            },
            "type": "scatterpolar"
           }
          ],
          "scatterpolargl": [
           {
            "marker": {
             "colorbar": {
              "outlinewidth": 0,
              "ticks": ""
             }
            },
            "type": "scatterpolargl"
           }
          ],
          "scatterternary": [
           {
            "marker": {
             "colorbar": {
              "outlinewidth": 0,
              "ticks": ""
             }
            },
            "type": "scatterternary"
           }
          ],
          "surface": [
           {
            "colorbar": {
             "outlinewidth": 0,
             "ticks": ""
            },
            "colorscale": [
             [
              0,
              "#0d0887"
             ],
             [
              0.1111111111111111,
              "#46039f"
             ],
             [
              0.2222222222222222,
              "#7201a8"
             ],
             [
              0.3333333333333333,
              "#9c179e"
             ],
             [
              0.4444444444444444,
              "#bd3786"
             ],
             [
              0.5555555555555556,
              "#d8576b"
             ],
             [
              0.6666666666666666,
              "#ed7953"
             ],
             [
              0.7777777777777778,
              "#fb9f3a"
             ],
             [
              0.8888888888888888,
              "#fdca26"
             ],
             [
              1,
              "#f0f921"
             ]
            ],
            "type": "surface"
           }
          ],
          "table": [
           {
            "cells": {
             "fill": {
              "color": "#EBF0F8"
             },
             "line": {
              "color": "white"
             }
            },
            "header": {
             "fill": {
              "color": "#C8D4E3"
             },
             "line": {
              "color": "white"
             }
            },
            "type": "table"
           }
          ]
         },
         "layout": {
          "annotationdefaults": {
           "arrowcolor": "#2a3f5f",
           "arrowhead": 0,
           "arrowwidth": 1
          },
          "autotypenumbers": "strict",
          "coloraxis": {
           "colorbar": {
            "outlinewidth": 0,
            "ticks": ""
           }
          },
          "colorscale": {
           "diverging": [
            [
             0,
             "#8e0152"
            ],
            [
             0.1,
             "#c51b7d"
            ],
            [
             0.2,
             "#de77ae"
            ],
            [
             0.3,
             "#f1b6da"
            ],
            [
             0.4,
             "#fde0ef"
            ],
            [
             0.5,
             "#f7f7f7"
            ],
            [
             0.6,
             "#e6f5d0"
            ],
            [
             0.7,
             "#b8e186"
            ],
            [
             0.8,
             "#7fbc41"
            ],
            [
             0.9,
             "#4d9221"
            ],
            [
             1,
             "#276419"
            ]
           ],
           "sequential": [
            [
             0,
             "#0d0887"
            ],
            [
             0.1111111111111111,
             "#46039f"
            ],
            [
             0.2222222222222222,
             "#7201a8"
            ],
            [
             0.3333333333333333,
             "#9c179e"
            ],
            [
             0.4444444444444444,
             "#bd3786"
            ],
            [
             0.5555555555555556,
             "#d8576b"
            ],
            [
             0.6666666666666666,
             "#ed7953"
            ],
            [
             0.7777777777777778,
             "#fb9f3a"
            ],
            [
             0.8888888888888888,
             "#fdca26"
            ],
            [
             1,
             "#f0f921"
            ]
           ],
           "sequentialminus": [
            [
             0,
             "#0d0887"
            ],
            [
             0.1111111111111111,
             "#46039f"
            ],
            [
             0.2222222222222222,
             "#7201a8"
            ],
            [
             0.3333333333333333,
             "#9c179e"
            ],
            [
             0.4444444444444444,
             "#bd3786"
            ],
            [
             0.5555555555555556,
             "#d8576b"
            ],
            [
             0.6666666666666666,
             "#ed7953"
            ],
            [
             0.7777777777777778,
             "#fb9f3a"
            ],
            [
             0.8888888888888888,
             "#fdca26"
            ],
            [
             1,
             "#f0f921"
            ]
           ]
          },
          "colorway": [
           "#636efa",
           "#EF553B",
           "#00cc96",
           "#ab63fa",
           "#FFA15A",
           "#19d3f3",
           "#FF6692",
           "#B6E880",
           "#FF97FF",
           "#FECB52"
          ],
          "font": {
           "color": "#2a3f5f"
          },
          "geo": {
           "bgcolor": "white",
           "lakecolor": "white",
           "landcolor": "#E5ECF6",
           "showlakes": true,
           "showland": true,
           "subunitcolor": "white"
          },
          "hoverlabel": {
           "align": "left"
          },
          "hovermode": "closest",
          "mapbox": {
           "style": "light"
          },
          "paper_bgcolor": "white",
          "plot_bgcolor": "#E5ECF6",
          "polar": {
           "angularaxis": {
            "gridcolor": "white",
            "linecolor": "white",
            "ticks": ""
           },
           "bgcolor": "#E5ECF6",
           "radialaxis": {
            "gridcolor": "white",
            "linecolor": "white",
            "ticks": ""
           }
          },
          "scene": {
           "xaxis": {
            "backgroundcolor": "#E5ECF6",
            "gridcolor": "white",
            "gridwidth": 2,
            "linecolor": "white",
            "showbackground": true,
            "ticks": "",
            "zerolinecolor": "white"
           },
           "yaxis": {
            "backgroundcolor": "#E5ECF6",
            "gridcolor": "white",
            "gridwidth": 2,
            "linecolor": "white",
            "showbackground": true,
            "ticks": "",
            "zerolinecolor": "white"
           },
           "zaxis": {
            "backgroundcolor": "#E5ECF6",
            "gridcolor": "white",
            "gridwidth": 2,
            "linecolor": "white",
            "showbackground": true,
            "ticks": "",
            "zerolinecolor": "white"
           }
          },
          "shapedefaults": {
           "line": {
            "color": "#2a3f5f"
           }
          },
          "ternary": {
           "aaxis": {
            "gridcolor": "white",
            "linecolor": "white",
            "ticks": ""
           },
           "baxis": {
            "gridcolor": "white",
            "linecolor": "white",
            "ticks": ""
           },
           "bgcolor": "#E5ECF6",
           "caxis": {
            "gridcolor": "white",
            "linecolor": "white",
            "ticks": ""
           }
          },
          "title": {
           "x": 0.05
          },
          "xaxis": {
           "automargin": true,
           "gridcolor": "white",
           "linecolor": "white",
           "ticks": "",
           "title": {
            "standoff": 15
           },
           "zerolinecolor": "white",
           "zerolinewidth": 2
          },
          "yaxis": {
           "automargin": true,
           "gridcolor": "white",
           "linecolor": "white",
           "ticks": "",
           "title": {
            "standoff": 15
           },
           "zerolinecolor": "white",
           "zerolinewidth": 2
          }
         }
        },
        "title": {
         "text": "Hierarchical Clustering Heatmap (Plotly)"
        },
        "width": 1000,
        "xaxis": {
         "anchor": "y",
         "domain": [
          0,
          1
         ],
         "title": {
          "text": "Samples"
         }
        },
        "yaxis": {
         "anchor": "x",
         "autorange": "reversed",
         "domain": [
          0,
          1
         ],
         "title": {
          "text": "Genes"
         }
        }
       }
      }
     },
     "metadata": {},
     "output_type": "display_data"
    },
    {
     "name": "stdout",
     "output_type": "stream",
     "text": [
      "Heatmap saved as HTML!\n"
     ]
    }
   ],
   "source": [
    "# Load high-variance log-transformed data\n",
    "high_variance_ln_df = pd.read_csv(\"./data/outputs/rnaseq/high_variance_ln_transcript.csv\", index_col=0)\n",
    "\n",
    "# Load metadata to identify control (Sham) samples\n",
    "metadata_df = pd.read_csv(\"./data/metadata.csv\")\n",
    "metadata_df.rename(columns={'Pig ': 'Pig'}, inplace=True)  # Fix spaces if needed\n",
    "metadata_df['Pig'] = metadata_df['Pig'].astype(str)\n",
    "metadata_df['Pig'] = metadata_df['Pig'].apply(lambda x: f'PIG{x}')  # Match RNA-seq names\n",
    "# Identify control (Sham) sample columns\n",
    "sham_samples = metadata_df[metadata_df['Treatment'] == \"Sham\"]['Pig'].tolist()\n",
    "\n",
    "# Compute mean & std of control (Sham) samples per gene\n",
    "sham_mean = high_variance_ln_df[sham_samples].mean(axis=1)\n",
    "sham_std = high_variance_ln_df[sham_samples].std(axis=1)\n",
    "\n",
    "# Avoid division by zero by replacing 0 std with a small value (e.g., 1e-6)\n",
    "sham_std_safe = sham_std.replace(0, 1e-6)\n",
    "\n",
    "# Compute Z-scores safely (expression relative to Sham)\n",
    "z_score_df = (high_variance_ln_df - sham_mean.values.reshape(-1, 1)) / sham_std_safe.values.reshape(-1, 1)\n",
    "z_score_df = z_score_df.fillna(0)  # Fill NaN values with 0\n",
    "\n",
    "# Perform hierarchical clustering on genes (rows)\n",
    "row_linkage = sch.linkage(dist.pdist(z_score_df, metric=\"euclidean\"), method=\"ward\")\n",
    "row_dendro = sch.dendrogram(row_linkage, no_plot=True)\n",
    "row_order = row_dendro['leaves']\n",
    "\n",
    "# Perform hierarchical clustering on samples (columns)\n",
    "col_linkage = sch.linkage(dist.pdist(z_score_df.T, metric=\"euclidean\"), method=\"ward\")\n",
    "col_dendro = sch.dendrogram(col_linkage, no_plot=True)\n",
    "col_order = col_dendro['leaves']\n",
    "display(z_score_df.describe())\n",
    "# Reorder the dataframe based on clustering results\n",
    "clustered_df = z_score_df.iloc[row_order, :]\n",
    "\n",
    "# Create an interactive heatmap\n",
    "fig = px.imshow(\n",
    "    clustered_df, \n",
    "    labels=dict(x=\"Samples\", y=\"Genes\", color=\"Expression Level\"),\n",
    "    color_continuous_scale=\"RdBu_r\",  # Blue = low, Red = high expression\n",
    "    zmin=-5, zmax=5,  # Adjust this range if needed for better visualization\n",
    "    aspect=\"auto\"\n",
    ")\n",
    "\n",
    "fig.update_layout(\n",
    "    title=\"Hierarchical Clustering Heatmap (Plotly)\",\n",
    "    xaxis_title=\"Samples\",\n",
    "    yaxis_title=\"Genes\",\n",
    "    width=1000,\n",
    "    height=800\n",
    ")\n",
    "\n",
    "fig.show()\n",
    "\n",
    "fig.write_html(\"./data/outputs/rnaseq/heatmap_plotly.html\")\n",
    "print(\"Heatmap saved as HTML!\")\n",
    "\n",
    "# Save the clustered dataframe\n",
    "z_score_df.to_csv(\"./data/outputs/rnaseq/z_score_df.csv\", index=True)"
   ]
  },
  {
   "cell_type": "markdown",
   "metadata": {},
   "source": [
    "## PCA"
   ]
  },
  {
   "cell_type": "markdown",
   "metadata": {},
   "source": [
    "### On Z-score data "
   ]
  },
  {
   "cell_type": "markdown",
   "metadata": {},
   "source": [
    "#### Variance explained"
   ]
  },
  {
   "cell_type": "code",
   "execution_count": 55,
   "metadata": {},
   "outputs": [
    {
     "name": "stdout",
     "output_type": "stream",
     "text": [
      "cumulative_variance: [ 52.16764901  73.12957756  84.2478852   91.67792437  96.2947493\n",
      "  98.9787029   99.87756612 100.         100.         100.\n",
      " 100.         100.        ]\n"
     ]
    },
    {
     "data": {
      "image/png": "[encoded data removed]",
      "text/plain": [
       "<Figure size 800x500 with 1 Axes>"
      ]
     },
     "metadata": {},
     "output_type": "display_data"
    }
   ],
   "source": [
    "import numpy as np\n",
    "import matplotlib.pyplot as plt\n",
    "from sklearn.decomposition import PCA\n",
    "\n",
    "# Perform PCA on the Z-score matrix\n",
    "pca = PCA()\n",
    "pca.fit(z_score_df.T)  # Transpose so samples are rows\n",
    "\n",
    "# Get explained variance ratio\n",
    "explained_variance = pca.explained_variance_ratio_ * 100  # Convert to percentage\n",
    "cumulative_variance = np.cumsum(explained_variance)  # Cumulative sum\n",
    "print(f\"cumulative_variance: {cumulative_variance}\")\n",
    "\n",
    "# Plot explained variance\n",
    "plt.figure(figsize=(8,5))\n",
    "plt.bar(range(1, len(explained_variance) + 1), explained_variance, alpha=0.6, label=\"Individual\")\n",
    "plt.plot(range(1, len(cumulative_variance) + 1), cumulative_variance, marker='o', color='r', label=\"Cumulative\")\n",
    "plt.xlabel(\"Principal Component\")\n",
    "plt.ylabel(\"Variance Explained (%)\")\n",
    "plt.title(\"Explained Variance by Principal Components\")\n",
    "plt.legend()\n",
    "plt.grid()\n",
    "plt.show()\n",
    "\n"
   ]
  },
  {
   "cell_type": "code",
   "execution_count": 56,
   "metadata": {},
   "outputs": [
    {
     "data": {
      "text/html": [
       "<div>\n",
       "<style scoped>\n",
       "    .dataframe tbody tr th:only-of-type {\n",
       "        vertical-align: middle;\n",
       "    }\n",
       "\n",
       "    .dataframe tbody tr th {\n",
       "        vertical-align: top;\n",
       "    }\n",
       "\n",
       "    .dataframe thead th {\n",
       "        text-align: right;\n",
       "    }\n",
       "</style>\n",
       "<table border=\"1\" class=\"dataframe\">\n",
       "  <thead>\n",
       "    <tr style=\"text-align: right;\">\n",
       "      <th></th>\n",
       "      <th>PC1</th>\n",
       "      <th>PC2</th>\n",
       "      <th>PC3</th>\n",
       "      <th>PC4</th>\n",
       "      <th>Pig</th>\n",
       "      <th>Treatment</th>\n",
       "      <th>Day Euthanized</th>\n",
       "      <th>Max Fecal Score</th>\n",
       "    </tr>\n",
       "  </thead>\n",
       "  <tbody>\n",
       "    <tr>\n",
       "      <th>0</th>\n",
       "      <td>-3.973824e+06</td>\n",
       "      <td>-7.706437e+05</td>\n",
       "      <td>-5.198655e+05</td>\n",
       "      <td>3.695259e+05</td>\n",
       "      <td>PIG1</td>\n",
       "      <td>Sham</td>\n",
       "      <td>21</td>\n",
       "      <td>0</td>\n",
       "    </tr>\n",
       "    <tr>\n",
       "      <th>1</th>\n",
       "      <td>-3.973824e+06</td>\n",
       "      <td>-7.706437e+05</td>\n",
       "      <td>-5.198655e+05</td>\n",
       "      <td>3.695259e+05</td>\n",
       "      <td>PIG2</td>\n",
       "      <td>Sham</td>\n",
       "      <td>21</td>\n",
       "      <td>0</td>\n",
       "    </tr>\n",
       "    <tr>\n",
       "      <th>2</th>\n",
       "      <td>-3.973824e+06</td>\n",
       "      <td>-7.706437e+05</td>\n",
       "      <td>-5.198655e+05</td>\n",
       "      <td>3.695259e+05</td>\n",
       "      <td>PIG3</td>\n",
       "      <td>Sham</td>\n",
       "      <td>21</td>\n",
       "      <td>0</td>\n",
       "    </tr>\n",
       "    <tr>\n",
       "      <th>3</th>\n",
       "      <td>-3.973824e+06</td>\n",
       "      <td>-7.706437e+05</td>\n",
       "      <td>-5.198655e+05</td>\n",
       "      <td>3.695259e+05</td>\n",
       "      <td>PIG4</td>\n",
       "      <td>Sham</td>\n",
       "      <td>21</td>\n",
       "      <td>0</td>\n",
       "    </tr>\n",
       "    <tr>\n",
       "      <th>4</th>\n",
       "      <td>-3.642505e+06</td>\n",
       "      <td>3.579460e+05</td>\n",
       "      <td>-4.453735e+04</td>\n",
       "      <td>-1.644598e+05</td>\n",
       "      <td>PIG5</td>\n",
       "      <td>Bhyo</td>\n",
       "      <td>21</td>\n",
       "      <td>2</td>\n",
       "    </tr>\n",
       "    <tr>\n",
       "      <th>5</th>\n",
       "      <td>1.577431e+05</td>\n",
       "      <td>3.852351e+06</td>\n",
       "      <td>1.397021e+06</td>\n",
       "      <td>-2.242095e+06</td>\n",
       "      <td>PIG6</td>\n",
       "      <td>Bhyo</td>\n",
       "      <td>14</td>\n",
       "      <td>4</td>\n",
       "    </tr>\n",
       "    <tr>\n",
       "      <th>6</th>\n",
       "      <td>5.035853e+06</td>\n",
       "      <td>-3.028552e+06</td>\n",
       "      <td>-2.382101e+06</td>\n",
       "      <td>-1.890297e+05</td>\n",
       "      <td>PIG7</td>\n",
       "      <td>Bhyo</td>\n",
       "      <td>11</td>\n",
       "      <td>4</td>\n",
       "    </tr>\n",
       "    <tr>\n",
       "      <th>7</th>\n",
       "      <td>4.289303e+06</td>\n",
       "      <td>1.379091e+06</td>\n",
       "      <td>-6.086191e+05</td>\n",
       "      <td>-1.089123e+06</td>\n",
       "      <td>PIG8</td>\n",
       "      <td>Bhyo</td>\n",
       "      <td>18</td>\n",
       "      <td>4</td>\n",
       "    </tr>\n",
       "    <tr>\n",
       "      <th>8</th>\n",
       "      <td>7.891990e+05</td>\n",
       "      <td>2.494548e+06</td>\n",
       "      <td>-1.354955e+06</td>\n",
       "      <td>-1.228772e+06</td>\n",
       "      <td>PIG9</td>\n",
       "      <td>Bhamp</td>\n",
       "      <td>21</td>\n",
       "      <td>1</td>\n",
       "    </tr>\n",
       "    <tr>\n",
       "      <th>9</th>\n",
       "      <td>3.957418e+06</td>\n",
       "      <td>-4.081150e+06</td>\n",
       "      <td>9.197498e+05</td>\n",
       "      <td>-8.502229e+05</td>\n",
       "      <td>PIG10</td>\n",
       "      <td>Bhamp</td>\n",
       "      <td>21</td>\n",
       "      <td>1</td>\n",
       "    </tr>\n",
       "    <tr>\n",
       "      <th>10</th>\n",
       "      <td>1.139019e+06</td>\n",
       "      <td>-1.047581e+06</td>\n",
       "      <td>4.595209e+06</td>\n",
       "      <td>7.529105e+05</td>\n",
       "      <td>PIG11</td>\n",
       "      <td>Bhamp</td>\n",
       "      <td>14</td>\n",
       "      <td>4</td>\n",
       "    </tr>\n",
       "    <tr>\n",
       "      <th>11</th>\n",
       "      <td>4.169264e+06</td>\n",
       "      <td>3.155922e+06</td>\n",
       "      <td>-4.423049e+05</td>\n",
       "      <td>3.532688e+06</td>\n",
       "      <td>PIG12</td>\n",
       "      <td>Bhamp</td>\n",
       "      <td>14</td>\n",
       "      <td>4</td>\n",
       "    </tr>\n",
       "  </tbody>\n",
       "</table>\n",
       "</div>"
      ],
      "text/plain": [
       "             PC1           PC2           PC3           PC4    Pig Treatment  \\\n",
       "0  -3.973824e+06 -7.706437e+05 -5.198655e+05  3.695259e+05   PIG1      Sham   \n",
       "1  -3.973824e+06 -7.706437e+05 -5.198655e+05  3.695259e+05   PIG2      Sham   \n",
       "2  -3.973824e+06 -7.706437e+05 -5.198655e+05  3.695259e+05   PIG3      Sham   \n",
       "3  -3.973824e+06 -7.706437e+05 -5.198655e+05  3.695259e+05   PIG4      Sham   \n",
       "4  -3.642505e+06  3.579460e+05 -4.453735e+04 -1.644598e+05   PIG5      Bhyo   \n",
       "5   1.577431e+05  3.852351e+06  1.397021e+06 -2.242095e+06   PIG6      Bhyo   \n",
       "6   5.035853e+06 -3.028552e+06 -2.382101e+06 -1.890297e+05   PIG7      Bhyo   \n",
       "7   4.289303e+06  1.379091e+06 -6.086191e+05 -1.089123e+06   PIG8      Bhyo   \n",
       "8   7.891990e+05  2.494548e+06 -1.354955e+06 -1.228772e+06   PIG9     Bhamp   \n",
       "9   3.957418e+06 -4.081150e+06  9.197498e+05 -8.502229e+05  PIG10     Bhamp   \n",
       "10  1.139019e+06 -1.047581e+06  4.595209e+06  7.529105e+05  PIG11     Bhamp   \n",
       "11  4.169264e+06  3.155922e+06 -4.423049e+05  3.532688e+06  PIG12     Bhamp   \n",
       "\n",
       "    Day Euthanized  Max Fecal Score  \n",
       "0               21                0  \n",
       "1               21                0  \n",
       "2               21                0  \n",
       "3               21                0  \n",
       "4               21                2  \n",
       "5               14                4  \n",
       "6               11                4  \n",
       "7               18                4  \n",
       "8               21                1  \n",
       "9               21                1  \n",
       "10              14                4  \n",
       "11              14                4  "
      ]
     },
     "metadata": {},
     "output_type": "display_data"
    },
    {
     "data": {
      "application/vnd.plotly.v1+json": {
       "config": {
        "plotlyServerURL": "https://plot.ly"
       },
       "data": [
        {
         "customdata": [
          [
           "PIG1"
          ],
          [
           "PIG2"
          ],
          [
           "PIG3"
          ],
          [
           "PIG4"
          ]
         ],
         "hovertemplate": "Treatment=Sham<br>PC1 (52.17% Variance)=%{x}<br>PC2 (20.96% Variance)=%{y}<br>Pig=%{customdata[0]}<extra></extra>",
         "legendgroup": "Sham",
         "marker": {
          "color": "#636efa",
          "symbol": "circle"
         },
         "mode": "markers",
         "name": "Sham",
         "orientation": "v",
         "showlegend": true,
         "type": "scatter",
         "x": {
          "bdata": "Lw5xzF9RTsGxbW/MX1FOwdEob8xfUU7BgkdvzF9RTsE=",
          "dtype": "f8"
         },
         "xaxis": "x",
         "y": {
          "bdata": "38tsT6eEJ8E4IWxPp4QnwWDxa0+nhCfBvS5tT6eEJ8E=",
          "dtype": "f8"
         },
         "yaxis": "y"
        },
        {
         "customdata": [
          [
           "PIG5"
          ],
          [
           "PIG6"
          ],
          [
           "PIG7"
          ],
          [
           "PIG8"
          ]
         ],
         "hovertemplate": "Treatment=Bhyo<br>PC1 (52.17% Variance)=%{x}<br>PC2 (20.96% Variance)=%{y}<br>Pig=%{customdata[0]}<extra></extra>",
         "legendgroup": "Bhyo",
         "marker": {
          "color": "#EF553B",
          "symbol": "circle"
         },
         "mode": "markers",
         "name": "Bhyo",
         "orientation": "v",
         "showlegend": true,
         "type": "scatter",
         "x": {
          "bdata": "2fF9V0TKS8GvQnMHeUEDQdThQEHTNVNBpkTgzMVcUEE=",
          "dtype": "f8"
         },
         "xaxis": "x",
         "y": {
          "bdata": "zW2I7+fYFUECTh6bH2RNQVHNpBgkG0fBwxKpXRMLNUE=",
          "dtype": "f8"
         },
         "yaxis": "y"
        },
        {
         "customdata": [
          [
           "PIG9"
          ],
          [
           "PIG10"
          ],
          [
           "PIG11"
          ],
          [
           "PIG12"
          ]
         ],
         "hovertemplate": "Treatment=Bhamp<br>PC1 (52.17% Variance)=%{x}<br>PC2 (20.96% Variance)=%{y}<br>Pig=%{customdata[0]}<extra></extra>",
         "legendgroup": "Bhamp",
         "marker": {
          "color": "#00cc96",
          "symbol": "circle"
         },
         "mode": "markers",
         "name": "Bhamp",
         "orientation": "v",
         "showlegend": true,
         "type": "scatter",
         "x": {
          "bdata": "fbw/FZ4VKEEDoJX9VDFOQUGfOtxKYTFBPn6A6xfPT0E=",
          "dtype": "f8"
         },
         "xaxis": "x",
         "y": {
          "bdata": "PwpOBCoIQ0Hfp70x/yJPwabDi2c6+C/BFPp/5+gTSEE=",
          "dtype": "f8"
         },
         "yaxis": "y"
        }
       ],
       "layout": {
        "legend": {
         "title": {
          "text": "Treatment"
         },
         "tracegroupgap": 0
        },
        "template": {
         "data": {
          "bar": [
           {
            "error_x": {
             "color": "#2a3f5f"
            },
            "error_y": {
             "color": "#2a3f5f"
            },
            "marker": {
             "line": {
              "color": "white",
              "width": 0.5
             },
             "pattern": {
              "fillmode": "overlay",
              "size": 10,
              "solidity": 0.2
             }
            },
            "type": "bar"
           }
          ],
          "barpolar": [
           {
            "marker": {
             "line": {
              "color": "white",
              "width": 0.5
             },
             "pattern": {
              "fillmode": "overlay",
              "size": 10,
              "solidity": 0.2
             }
            },
            "type": "barpolar"
           }
          ],
          "carpet": [
           {
            "aaxis": {
             "endlinecolor": "#2a3f5f",
             "gridcolor": "#C8D4E3",
             "linecolor": "#C8D4E3",
             "minorgridcolor": "#C8D4E3",
             "startlinecolor": "#2a3f5f"
            },
            "baxis": {
             "endlinecolor": "#2a3f5f",
             "gridcolor": "#C8D4E3",
             "linecolor": "#C8D4E3",
             "minorgridcolor": "#C8D4E3",
             "startlinecolor": "#2a3f5f"
            },
            "type": "carpet"
           }
          ],
          "choropleth": [
           {
            "colorbar": {
             "outlinewidth": 0,
             "ticks": ""
            },
            "type": "choropleth"
           }
          ],
          "contour": [
           {
            "colorbar": {
             "outlinewidth": 0,
             "ticks": ""
            },
            "colorscale": [
             [
              0,
              "#0d0887"
             ],
             [
              0.1111111111111111,
              "#46039f"
             ],
             [
              0.2222222222222222,
              "#7201a8"
             ],
             [
              0.3333333333333333,
              "#9c179e"
             ],
             [
              0.4444444444444444,
              "#bd3786"
             ],
             [
              0.5555555555555556,
              "#d8576b"
             ],
             [
              0.6666666666666666,
              "#ed7953"
             ],
             [
              0.7777777777777778,
              "#fb9f3a"
             ],
             [
              0.8888888888888888,
              "#fdca26"
             ],
             [
              1,
              "#f0f921"
             ]
            ],
            "type": "contour"
           }
          ],
          "contourcarpet": [
           {
            "colorbar": {
             "outlinewidth": 0,
             "ticks": ""
            },
            "type": "contourcarpet"
           }
          ],
          "heatmap": [
           {
            "colorbar": {
             "outlinewidth": 0,
             "ticks": ""
            },
            "colorscale": [
             [
              0,
              "#0d0887"
             ],
             [
              0.1111111111111111,
              "#46039f"
             ],
             [
              0.2222222222222222,
              "#7201a8"
             ],
             [
              0.3333333333333333,
              "#9c179e"
             ],
             [
              0.4444444444444444,
              "#bd3786"
             ],
             [
              0.5555555555555556,
              "#d8576b"
             ],
             [
              0.6666666666666666,
              "#ed7953"
             ],
             [
              0.7777777777777778,
              "#fb9f3a"
             ],
             [
              0.8888888888888888,
              "#fdca26"
             ],
             [
              1,
              "#f0f921"
             ]
            ],
            "type": "heatmap"
           }
          ],
          "histogram": [
           {
            "marker": {
             "pattern": {
              "fillmode": "overlay",
              "size": 10,
              "solidity": 0.2
             }
            },
            "type": "histogram"
           }
          ],
          "histogram2d": [
           {
            "colorbar": {
             "outlinewidth": 0,
             "ticks": ""
            },
            "colorscale": [
             [
              0,
              "#0d0887"
             ],
             [
              0.1111111111111111,
              "#46039f"
             ],
             [
              0.2222222222222222,
              "#7201a8"
             ],
             [
              0.3333333333333333,
              "#9c179e"
             ],
             [
              0.4444444444444444,
              "#bd3786"
             ],
             [
              0.5555555555555556,
              "#d8576b"
             ],
             [
              0.6666666666666666,
              "#ed7953"
             ],
             [
              0.7777777777777778,
              "#fb9f3a"
             ],
             [
              0.8888888888888888,
              "#fdca26"
             ],
             [
              1,
              "#f0f921"
             ]
            ],
            "type": "histogram2d"
           }
          ],
          "histogram2dcontour": [
           {
            "colorbar": {
             "outlinewidth": 0,
             "ticks": ""
            },
            "colorscale": [
             [
              0,
              "#0d0887"
             ],
             [
              0.1111111111111111,
              "#46039f"
             ],
             [
              0.2222222222222222,
              "#7201a8"
             ],
             [
              0.3333333333333333,
              "#9c179e"
             ],
             [
              0.4444444444444444,
              "#bd3786"
             ],
             [
              0.5555555555555556,
              "#d8576b"
             ],
             [
              0.6666666666666666,
              "#ed7953"
             ],
             [
              0.7777777777777778,
              "#fb9f3a"
             ],
             [
              0.8888888888888888,
              "#fdca26"
             ],
             [
              1,
              "#f0f921"
             ]
            ],
            "type": "histogram2dcontour"
           }
          ],
          "mesh3d": [
           {
            "colorbar": {
             "outlinewidth": 0,
             "ticks": ""
            },
            "type": "mesh3d"
           }
          ],
          "parcoords": [
           {
            "line": {
             "colorbar": {
              "outlinewidth": 0,
              "ticks": ""
             }
            },
            "type": "parcoords"
           }
          ],
          "pie": [
           {
            "automargin": true,
            "type": "pie"
           }
          ],
          "scatter": [
           {
            "fillpattern": {
             "fillmode": "overlay",
             "size": 10,
             "solidity": 0.2
            },
            "type": "scatter"
           }
          ],
          "scatter3d": [
           {
            "line": {
             "colorbar": {
              "outlinewidth": 0,
              "ticks": ""
             }
            },
            "marker": {
             "colorbar": {
              "outlinewidth": 0,
              "ticks": ""
             }
            },
            "type": "scatter3d"
           }
          ],
          "scattercarpet": [
           {
            "marker": {
             "colorbar": {
              "outlinewidth": 0,
              "ticks": ""
             }
            },
            "type": "scattercarpet"
           }
          ],
          "scattergeo": [
           {
            "marker": {
             "colorbar": {
              "outlinewidth": 0,
              "ticks": ""
             }
            },
            "type": "scattergeo"
           }
          ],
          "scattergl": [
           {
            "marker": {
             "colorbar": {
              "outlinewidth": 0,
              "ticks": ""
             }
            },
            "type": "scattergl"
           }
          ],
          "scattermap": [
           {
            "marker": {
             "colorbar": {
              "outlinewidth": 0,
              "ticks": ""
             }
            },
            "type": "scattermap"
           }
          ],
          "scattermapbox": [
           {
            "marker": {
             "colorbar": {
              "outlinewidth": 0,
              "ticks": ""
             }
            },
            "type": "scattermapbox"
           }
          ],
          "scatterpolar": [
           {
            "marker": {
             "colorbar": {
              "outlinewidth": 0,
              "ticks": ""
             }
            },
            "type": "scatterpolar"
           }
          ],
          "scatterpolargl": [
           {
            "marker": {
             "colorbar": {
              "outlinewidth": 0,
              "ticks": ""
             }
            },
            "type": "scatterpolargl"
           }
          ],
          "scatterternary": [
           {
            "marker": {
             "colorbar": {
              "outlinewidth": 0,
              "ticks": ""
             }
            },
            "type": "scatterternary"
           }
          ],
          "surface": [
           {
            "colorbar": {
             "outlinewidth": 0,
             "ticks": ""
            },
            "colorscale": [
             [
              0,
              "#0d0887"
             ],
             [
              0.1111111111111111,
              "#46039f"
             ],
             [
              0.2222222222222222,
              "#7201a8"
             ],
             [
              0.3333333333333333,
              "#9c179e"
             ],
             [
              0.4444444444444444,
              "#bd3786"
             ],
             [
              0.5555555555555556,
              "#d8576b"
             ],
             [
              0.6666666666666666,
              "#ed7953"
             ],
             [
              0.7777777777777778,
              "#fb9f3a"
             ],
             [
              0.8888888888888888,
              "#fdca26"
             ],
             [
              1,
              "#f0f921"
             ]
            ],
            "type": "surface"
           }
          ],
          "table": [
           {
            "cells": {
             "fill": {
              "color": "#EBF0F8"
             },
             "line": {
              "color": "white"
             }
            },
            "header": {
             "fill": {
              "color": "#C8D4E3"
             },
             "line": {
              "color": "white"
             }
            },
            "type": "table"
           }
          ]
         },
         "layout": {
          "annotationdefaults": {
           "arrowcolor": "#2a3f5f",
           "arrowhead": 0,
           "arrowwidth": 1
          },
          "autotypenumbers": "strict",
          "coloraxis": {
           "colorbar": {
            "outlinewidth": 0,
            "ticks": ""
           }
          },
          "colorscale": {
           "diverging": [
            [
             0,
             "#8e0152"
            ],
            [
             0.1,
             "#c51b7d"
            ],
            [
             0.2,
             "#de77ae"
            ],
            [
             0.3,
             "#f1b6da"
            ],
            [
             0.4,
             "#fde0ef"
            ],
            [
             0.5,
             "#f7f7f7"
            ],
            [
             0.6,
             "#e6f5d0"
            ],
            [
             0.7,
             "#b8e186"
            ],
            [
             0.8,
             "#7fbc41"
            ],
            [
             0.9,
             "#4d9221"
            ],
            [
             1,
             "#276419"
            ]
           ],
           "sequential": [
            [
             0,
             "#0d0887"
            ],
            [
             0.1111111111111111,
             "#46039f"
            ],
            [
             0.2222222222222222,
             "#7201a8"
            ],
            [
             0.3333333333333333,
             "#9c179e"
            ],
            [
             0.4444444444444444,
             "#bd3786"
            ],
            [
             0.5555555555555556,
             "#d8576b"
            ],
            [
             0.6666666666666666,
             "#ed7953"
            ],
            [
             0.7777777777777778,
             "#fb9f3a"
            ],
            [
             0.8888888888888888,
             "#fdca26"
            ],
            [
             1,
             "#f0f921"
            ]
           ],
           "sequentialminus": [
            [
             0,
             "#0d0887"
            ],
            [
             0.1111111111111111,
             "#46039f"
            ],
            [
             0.2222222222222222,
             "#7201a8"
            ],
            [
             0.3333333333333333,
             "#9c179e"
            ],
            [
             0.4444444444444444,
             "#bd3786"
            ],
            [
             0.5555555555555556,
             "#d8576b"
            ],
            [
             0.6666666666666666,
             "#ed7953"
            ],
            [
             0.7777777777777778,
             "#fb9f3a"
            ],
            [
             0.8888888888888888,
             "#fdca26"
            ],
            [
             1,
             "#f0f921"
            ]
           ]
          },
          "colorway": [
           "#636efa",
           "#EF553B",
           "#00cc96",
           "#ab63fa",
           "#FFA15A",
           "#19d3f3",
           "#FF6692",
           "#B6E880",
           "#FF97FF",
           "#FECB52"
          ],
          "font": {
           "color": "#2a3f5f"
          },
          "geo": {
           "bgcolor": "white",
           "lakecolor": "white",
           "landcolor": "white",
           "showlakes": true,
           "showland": true,
           "subunitcolor": "#C8D4E3"
          },
          "hoverlabel": {
           "align": "left"
          },
          "hovermode": "closest",
          "mapbox": {
           "style": "light"
          },
          "paper_bgcolor": "white",
          "plot_bgcolor": "white",
          "polar": {
           "angularaxis": {
            "gridcolor": "#EBF0F8",
            "linecolor": "#EBF0F8",
            "ticks": ""
           },
           "bgcolor": "white",
           "radialaxis": {
            "gridcolor": "#EBF0F8",
            "linecolor": "#EBF0F8",
            "ticks": ""
           }
          },
          "scene": {
           "xaxis": {
            "backgroundcolor": "white",
            "gridcolor": "#DFE8F3",
            "gridwidth": 2,
            "linecolor": "#EBF0F8",
            "showbackground": true,
            "ticks": "",
            "zerolinecolor": "#EBF0F8"
           },
           "yaxis": {
            "backgroundcolor": "white",
            "gridcolor": "#DFE8F3",
            "gridwidth": 2,
            "linecolor": "#EBF0F8",
            "showbackground": true,
            "ticks": "",
            "zerolinecolor": "#EBF0F8"
           },
           "zaxis": {
            "backgroundcolor": "white",
            "gridcolor": "#DFE8F3",
            "gridwidth": 2,
            "linecolor": "#EBF0F8",
            "showbackground": true,
            "ticks": "",
            "zerolinecolor": "#EBF0F8"
           }
          },
          "shapedefaults": {
           "line": {
            "color": "#2a3f5f"
           }
          },
          "ternary": {
           "aaxis": {
            "gridcolor": "#DFE8F3",
            "linecolor": "#A2B1C6",
            "ticks": ""
           },
           "baxis": {
            "gridcolor": "#DFE8F3",
            "linecolor": "#A2B1C6",
            "ticks": ""
           },
           "bgcolor": "white",
           "caxis": {
            "gridcolor": "#DFE8F3",
            "linecolor": "#A2B1C6",
            "ticks": ""
           }
          },
          "title": {
           "x": 0.05
          },
          "xaxis": {
           "automargin": true,
           "gridcolor": "#EBF0F8",
           "linecolor": "#EBF0F8",
           "ticks": "",
           "title": {
            "standoff": 15
           },
           "zerolinecolor": "#EBF0F8",
           "zerolinewidth": 2
          },
          "yaxis": {
           "automargin": true,
           "gridcolor": "#EBF0F8",
           "linecolor": "#EBF0F8",
           "ticks": "",
           "title": {
            "standoff": 15
           },
           "zerolinecolor": "#EBF0F8",
           "zerolinewidth": 2
          }
         }
        },
        "title": {
         "text": "PCA of RNA-Seq Expression Data (PC1 vs. PC2)"
        },
        "xaxis": {
         "anchor": "y",
         "domain": [
          0,
          1
         ],
         "title": {
          "text": "PC1 (52.17% Variance)"
         }
        },
        "yaxis": {
         "anchor": "x",
         "domain": [
          0,
          1
         ],
         "title": {
          "text": "PC2 (20.96% Variance)"
         }
        }
       }
      }
     },
     "metadata": {},
     "output_type": "display_data"
    }
   ],
   "source": [
    "# Perform PCA with 4 components\n",
    "pca = PCA(n_components=4)\n",
    "pca_results = pca.fit_transform(z_score_df.T)  # Transpose so samples are rows\n",
    "\n",
    "# Create DataFrame with PCA results\n",
    "pca_df = pd.DataFrame(pca_results, columns=['PC1', 'PC2', 'PC3', 'PC4'])\n",
    "pca_df['Pig'] = z_score_df.columns  # Match sample names\n",
    "pca_df = pca_df.merge(metadata_df, on='Pig')  # Add treatment labels\n",
    "display(pca_df)\n",
    "# Plot PC1 vs PC2\n",
    "fig = px.scatter(\n",
    "    pca_df,\n",
    "    x='PC1',\n",
    "    y='PC2',\n",
    "    color='Treatment',  # Color by treatment group\n",
    "    hover_data=['Pig'],\n",
    "    title=\"PCA of RNA-Seq Expression Data (PC1 vs. PC2)\",\n",
    "    labels={'PC1': f\"PC1 ({pca.explained_variance_ratio_[0]*100:.2f}% Variance)\",\n",
    "            'PC2': f\"PC2 ({pca.explained_variance_ratio_[1]*100:.2f}% Variance)\"},\n",
    "    template=\"plotly_white\"\n",
    ")\n",
    "\n",
    "fig.show()\n"
   ]
  },
  {
   "cell_type": "markdown",
   "metadata": {},
   "source": [
    "All the control points will condense onto a single one here"
   ]
  },
  {
   "cell_type": "code",
   "execution_count": 58,
   "metadata": {},
   "outputs": [
    {
     "data": {
      "application/vnd.plotly.v1+json": {
       "config": {
        "plotlyServerURL": "https://plot.ly"
       },
       "data": [
        {
         "customdata": [
          [
           "PIG1"
          ],
          [
           "PIG2"
          ],
          [
           "PIG3"
          ],
          [
           "PIG4"
          ]
         ],
         "hovertemplate": "Treatment=Sham<br>PC1 (52.17% Variance)=%{x}<br>PC2 (20.96% Variance)=%{y}<br>PC3 (11.12% Variance)=%{z}<br>Pig=%{customdata[0]}<extra></extra>",
         "legendgroup": "Sham",
         "marker": {
          "color": "#636efa",
          "symbol": "circle"
         },
         "mode": "markers",
         "name": "Sham",
         "scene": "scene",
         "showlegend": true,
         "type": "scatter3d",
         "x": {
          "bdata": "Lw5xzF9RTsGxbW/MX1FOwdEob8xfUU7BgkdvzF9RTsE=",
          "dtype": "f8"
         },
         "y": {
          "bdata": "38tsT6eEJ8E4IWxPp4QnwWDxa0+nhCfBvS5tT6eEJ8E=",
          "dtype": "f8"
         },
         "z": {
          "bdata": "S7GRJea6H8GRq5El5rofwRbSliXmuh/BpAigJea6H8E=",
          "dtype": "f8"
         }
        },
        {
         "customdata": [
          [
           "PIG5"
          ],
          [
           "PIG6"
          ],
          [
           "PIG7"
          ],
          [
           "PIG8"
          ]
         ],
         "hovertemplate": "Treatment=Bhyo<br>PC1 (52.17% Variance)=%{x}<br>PC2 (20.96% Variance)=%{y}<br>PC3 (11.12% Variance)=%{z}<br>Pig=%{customdata[0]}<extra></extra>",
         "legendgroup": "Bhyo",
         "marker": {
          "color": "#EF553B",
          "symbol": "circle"
         },
         "mode": "markers",
         "name": "Bhyo",
         "scene": "scene",
         "showlegend": true,
         "type": "scatter3d",
         "x": {
          "bdata": "2fF9V0TKS8GvQnMHeUEDQdThQEHTNVNBpkTgzMVcUEE=",
          "dtype": "f8"
         },
         "y": {
          "bdata": "zW2I7+fYFUECTh6bH2RNQVHNpBgkG0fBwxKpXRMLNUE=",
          "dtype": "f8"
         },
         "z": {
          "bdata": "DNyoUiu/5cAQKTeoHFE1Qac5MZCKLELBZtrKMNaSIsE=",
          "dtype": "f8"
         }
        },
        {
         "customdata": [
          [
           "PIG9"
          ],
          [
           "PIG10"
          ],
          [
           "PIG11"
          ],
          [
           "PIG12"
          ]
         ],
         "hovertemplate": "Treatment=Bhamp<br>PC1 (52.17% Variance)=%{x}<br>PC2 (20.96% Variance)=%{y}<br>PC3 (11.12% Variance)=%{z}<br>Pig=%{customdata[0]}<extra></extra>",
         "legendgroup": "Bhamp",
         "marker": {
          "color": "#00cc96",
          "symbol": "circle"
         },
         "mode": "markers",
         "name": "Bhamp",
         "scene": "scene",
         "showlegend": true,
         "type": "scatter3d",
         "x": {
          "bdata": "fbw/FZ4VKEEDoJX9VDFOQUGfOtxKYTFBPn6A6xfPT0E=",
          "dtype": "f8"
         },
         "y": {
          "bdata": "PwpOBCoIQ0Hfp70x/yJPwabDi2c6+C/BFPp/5+gTSEE=",
          "dtype": "f8"
         },
         "z": {
          "bdata": "TbSsRMusNME2BTmHixEsQQy5iF2Ch1FB25hYkQP/GsE=",
          "dtype": "f8"
         }
        }
       ],
       "layout": {
        "legend": {
         "title": {
          "text": "Treatment"
         },
         "tracegroupgap": 0
        },
        "scene": {
         "domain": {
          "x": [
           0,
           1
          ],
          "y": [
           0,
           1
          ]
         },
         "xaxis": {
          "title": {
           "text": "PC1 (52.17% Variance)"
          }
         },
         "yaxis": {
          "title": {
           "text": "PC2 (20.96% Variance)"
          }
         },
         "zaxis": {
          "title": {
           "text": "PC3 (11.12% Variance)"
          }
         }
        },
        "template": {
         "data": {
          "bar": [
           {
            "error_x": {
             "color": "#2a3f5f"
            },
            "error_y": {
             "color": "#2a3f5f"
            },
            "marker": {
             "line": {
              "color": "white",
              "width": 0.5
             },
             "pattern": {
              "fillmode": "overlay",
              "size": 10,
              "solidity": 0.2
             }
            },
            "type": "bar"
           }
          ],
          "barpolar": [
           {
            "marker": {
             "line": {
              "color": "white",
              "width": 0.5
             },
             "pattern": {
              "fillmode": "overlay",
              "size": 10,
              "solidity": 0.2
             }
            },
            "type": "barpolar"
           }
          ],
          "carpet": [
           {
            "aaxis": {
             "endlinecolor": "#2a3f5f",
             "gridcolor": "#C8D4E3",
             "linecolor": "#C8D4E3",
             "minorgridcolor": "#C8D4E3",
             "startlinecolor": "#2a3f5f"
            },
            "baxis": {
             "endlinecolor": "#2a3f5f",
             "gridcolor": "#C8D4E3",
             "linecolor": "#C8D4E3",
             "minorgridcolor": "#C8D4E3",
             "startlinecolor": "#2a3f5f"
            },
            "type": "carpet"
           }
          ],
          "choropleth": [
           {
            "colorbar": {
             "outlinewidth": 0,
             "ticks": ""
            },
            "type": "choropleth"
           }
          ],
          "contour": [
           {
            "colorbar": {
             "outlinewidth": 0,
             "ticks": ""
            },
            "colorscale": [
             [
              0,
              "#0d0887"
             ],
             [
              0.1111111111111111,
              "#46039f"
             ],
             [
              0.2222222222222222,
              "#7201a8"
             ],
             [
              0.3333333333333333,
              "#9c179e"
             ],
             [
              0.4444444444444444,
              "#bd3786"
             ],
             [
              0.5555555555555556,
              "#d8576b"
             ],
             [
              0.6666666666666666,
              "#ed7953"
             ],
             [
              0.7777777777777778,
              "#fb9f3a"
             ],
             [
              0.8888888888888888,
              "#fdca26"
             ],
             [
              1,
              "#f0f921"
             ]
            ],
            "type": "contour"
           }
          ],
          "contourcarpet": [
           {
            "colorbar": {
             "outlinewidth": 0,
             "ticks": ""
            },
            "type": "contourcarpet"
           }
          ],
          "heatmap": [
           {
            "colorbar": {
             "outlinewidth": 0,
             "ticks": ""
            },
            "colorscale": [
             [
              0,
              "#0d0887"
             ],
             [
              0.1111111111111111,
              "#46039f"
             ],
             [
              0.2222222222222222,
              "#7201a8"
             ],
             [
              0.3333333333333333,
              "#9c179e"
             ],
             [
              0.4444444444444444,
              "#bd3786"
             ],
             [
              0.5555555555555556,
              "#d8576b"
             ],
             [
              0.6666666666666666,
              "#ed7953"
             ],
             [
              0.7777777777777778,
              "#fb9f3a"
             ],
             [
              0.8888888888888888,
              "#fdca26"
             ],
             [
              1,
              "#f0f921"
             ]
            ],
            "type": "heatmap"
           }
          ],
          "histogram": [
           {
            "marker": {
             "pattern": {
              "fillmode": "overlay",
              "size": 10,
              "solidity": 0.2
             }
            },
            "type": "histogram"
           }
          ],
          "histogram2d": [
           {
            "colorbar": {
             "outlinewidth": 0,
             "ticks": ""
            },
            "colorscale": [
             [
              0,
              "#0d0887"
             ],
             [
              0.1111111111111111,
              "#46039f"
             ],
             [
              0.2222222222222222,
              "#7201a8"
             ],
             [
              0.3333333333333333,
              "#9c179e"
             ],
             [
              0.4444444444444444,
              "#bd3786"
             ],
             [
              0.5555555555555556,
              "#d8576b"
             ],
             [
              0.6666666666666666,
              "#ed7953"
             ],
             [
              0.7777777777777778,
              "#fb9f3a"
             ],
             [
              0.8888888888888888,
              "#fdca26"
             ],
             [
              1,
              "#f0f921"
             ]
            ],
            "type": "histogram2d"
           }
          ],
          "histogram2dcontour": [
           {
            "colorbar": {
             "outlinewidth": 0,
             "ticks": ""
            },
            "colorscale": [
             [
              0,
              "#0d0887"
             ],
             [
              0.1111111111111111,
              "#46039f"
             ],
             [
              0.2222222222222222,
              "#7201a8"
             ],
             [
              0.3333333333333333,
              "#9c179e"
             ],
             [
              0.4444444444444444,
              "#bd3786"
             ],
             [
              0.5555555555555556,
              "#d8576b"
             ],
             [
              0.6666666666666666,
              "#ed7953"
             ],
             [
              0.7777777777777778,
              "#fb9f3a"
             ],
             [
              0.8888888888888888,
              "#fdca26"
             ],
             [
              1,
              "#f0f921"
             ]
            ],
            "type": "histogram2dcontour"
           }
          ],
          "mesh3d": [
           {
            "colorbar": {
             "outlinewidth": 0,
             "ticks": ""
            },
            "type": "mesh3d"
           }
          ],
          "parcoords": [
           {
            "line": {
             "colorbar": {
              "outlinewidth": 0,
              "ticks": ""
             }
            },
            "type": "parcoords"
           }
          ],
          "pie": [
           {
            "automargin": true,
            "type": "pie"
           }
          ],
          "scatter": [
           {
            "fillpattern": {
             "fillmode": "overlay",
             "size": 10,
             "solidity": 0.2
            },
            "type": "scatter"
           }
          ],
          "scatter3d": [
           {
            "line": {
             "colorbar": {
              "outlinewidth": 0,
              "ticks": ""
             }
            },
            "marker": {
             "colorbar": {
              "outlinewidth": 0,
              "ticks": ""
             }
            },
            "type": "scatter3d"
           }
          ],
          "scattercarpet": [
           {
            "marker": {
             "colorbar": {
              "outlinewidth": 0,
              "ticks": ""
             }
            },
            "type": "scattercarpet"
           }
          ],
          "scattergeo": [
           {
            "marker": {
             "colorbar": {
              "outlinewidth": 0,
              "ticks": ""
             }
            },
            "type": "scattergeo"
           }
          ],
          "scattergl": [
           {
            "marker": {
             "colorbar": {
              "outlinewidth": 0,
              "ticks": ""
             }
            },
            "type": "scattergl"
           }
          ],
          "scattermap": [
           {
            "marker": {
             "colorbar": {
              "outlinewidth": 0,
              "ticks": ""
             }
            },
            "type": "scattermap"
           }
          ],
          "scattermapbox": [
           {
            "marker": {
             "colorbar": {
              "outlinewidth": 0,
              "ticks": ""
             }
            },
            "type": "scattermapbox"
           }
          ],
          "scatterpolar": [
           {
            "marker": {
             "colorbar": {
              "outlinewidth": 0,
              "ticks": ""
             }
            },
            "type": "scatterpolar"
           }
          ],
          "scatterpolargl": [
           {
            "marker": {
             "colorbar": {
              "outlinewidth": 0,
              "ticks": ""
             }
            },
            "type": "scatterpolargl"
           }
          ],
          "scatterternary": [
           {
            "marker": {
             "colorbar": {
              "outlinewidth": 0,
              "ticks": ""
             }
            },
            "type": "scatterternary"
           }
          ],
          "surface": [
           {
            "colorbar": {
             "outlinewidth": 0,
             "ticks": ""
            },
            "colorscale": [
             [
              0,
              "#0d0887"
             ],
             [
              0.1111111111111111,
              "#46039f"
             ],
             [
              0.2222222222222222,
              "#7201a8"
             ],
             [
              0.3333333333333333,
              "#9c179e"
             ],
             [
              0.4444444444444444,
              "#bd3786"
             ],
             [
              0.5555555555555556,
              "#d8576b"
             ],
             [
              0.6666666666666666,
              "#ed7953"
             ],
             [
              0.7777777777777778,
              "#fb9f3a"
             ],
             [
              0.8888888888888888,
              "#fdca26"
             ],
             [
              1,
              "#f0f921"
             ]
            ],
            "type": "surface"
           }
          ],
          "table": [
           {
            "cells": {
             "fill": {
              "color": "#EBF0F8"
             },
             "line": {
              "color": "white"
             }
            },
            "header": {
             "fill": {
              "color": "#C8D4E3"
             },
             "line": {
              "color": "white"
             }
            },
            "type": "table"
           }
          ]
         },
         "layout": {
          "annotationdefaults": {
           "arrowcolor": "#2a3f5f",
           "arrowhead": 0,
           "arrowwidth": 1
          },
          "autotypenumbers": "strict",
          "coloraxis": {
           "colorbar": {
            "outlinewidth": 0,
            "ticks": ""
           }
          },
          "colorscale": {
           "diverging": [
            [
             0,
             "#8e0152"
            ],
            [
             0.1,
             "#c51b7d"
            ],
            [
             0.2,
             "#de77ae"
            ],
            [
             0.3,
             "#f1b6da"
            ],
            [
             0.4,
             "#fde0ef"
            ],
            [
             0.5,
             "#f7f7f7"
            ],
            [
             0.6,
             "#e6f5d0"
            ],
            [
             0.7,
             "#b8e186"
            ],
            [
             0.8,
             "#7fbc41"
            ],
            [
             0.9,
             "#4d9221"
            ],
            [
             1,
             "#276419"
            ]
           ],
           "sequential": [
            [
             0,
             "#0d0887"
            ],
            [
             0.1111111111111111,
             "#46039f"
            ],
            [
             0.2222222222222222,
             "#7201a8"
            ],
            [
             0.3333333333333333,
             "#9c179e"
            ],
            [
             0.4444444444444444,
             "#bd3786"
            ],
            [
             0.5555555555555556,
             "#d8576b"
            ],
            [
             0.6666666666666666,
             "#ed7953"
            ],
            [
             0.7777777777777778,
             "#fb9f3a"
            ],
            [
             0.8888888888888888,
             "#fdca26"
            ],
            [
             1,
             "#f0f921"
            ]
           ],
           "sequentialminus": [
            [
             0,
             "#0d0887"
            ],
            [
             0.1111111111111111,
             "#46039f"
            ],
            [
             0.2222222222222222,
             "#7201a8"
            ],
            [
             0.3333333333333333,
             "#9c179e"
            ],
            [
             0.4444444444444444,
             "#bd3786"
            ],
            [
             0.5555555555555556,
             "#d8576b"
            ],
            [
             0.6666666666666666,
             "#ed7953"
            ],
            [
             0.7777777777777778,
             "#fb9f3a"
            ],
            [
             0.8888888888888888,
             "#fdca26"
            ],
            [
             1,
             "#f0f921"
            ]
           ]
          },
          "colorway": [
           "#636efa",
           "#EF553B",
           "#00cc96",
           "#ab63fa",
           "#FFA15A",
           "#19d3f3",
           "#FF6692",
           "#B6E880",
           "#FF97FF",
           "#FECB52"
          ],
          "font": {
           "color": "#2a3f5f"
          },
          "geo": {
           "bgcolor": "white",
           "lakecolor": "white",
           "landcolor": "white",
           "showlakes": true,
           "showland": true,
           "subunitcolor": "#C8D4E3"
          },
          "hoverlabel": {
           "align": "left"
          },
          "hovermode": "closest",
          "mapbox": {
           "style": "light"
          },
          "paper_bgcolor": "white",
          "plot_bgcolor": "white",
          "polar": {
           "angularaxis": {
            "gridcolor": "#EBF0F8",
            "linecolor": "#EBF0F8",
            "ticks": ""
           },
           "bgcolor": "white",
           "radialaxis": {
            "gridcolor": "#EBF0F8",
            "linecolor": "#EBF0F8",
            "ticks": ""
           }
          },
          "scene": {
           "xaxis": {
            "backgroundcolor": "white",
            "gridcolor": "#DFE8F3",
            "gridwidth": 2,
            "linecolor": "#EBF0F8",
            "showbackground": true,
            "ticks": "",
            "zerolinecolor": "#EBF0F8"
           },
           "yaxis": {
            "backgroundcolor": "white",
            "gridcolor": "#DFE8F3",
            "gridwidth": 2,
            "linecolor": "#EBF0F8",
            "showbackground": true,
            "ticks": "",
            "zerolinecolor": "#EBF0F8"
           },
           "zaxis": {
            "backgroundcolor": "white",
            "gridcolor": "#DFE8F3",
            "gridwidth": 2,
            "linecolor": "#EBF0F8",
            "showbackground": true,
            "ticks": "",
            "zerolinecolor": "#EBF0F8"
           }
          },
          "shapedefaults": {
           "line": {
            "color": "#2a3f5f"
           }
          },
          "ternary": {
           "aaxis": {
            "gridcolor": "#DFE8F3",
            "linecolor": "#A2B1C6",
            "ticks": ""
           },
           "baxis": {
            "gridcolor": "#DFE8F3",
            "linecolor": "#A2B1C6",
            "ticks": ""
           },
           "bgcolor": "white",
           "caxis": {
            "gridcolor": "#DFE8F3",
            "linecolor": "#A2B1C6",
            "ticks": ""
           }
          },
          "title": {
           "x": 0.05
          },
          "xaxis": {
           "automargin": true,
           "gridcolor": "#EBF0F8",
           "linecolor": "#EBF0F8",
           "ticks": "",
           "title": {
            "standoff": 15
           },
           "zerolinecolor": "#EBF0F8",
           "zerolinewidth": 2
          },
          "yaxis": {
           "automargin": true,
           "gridcolor": "#EBF0F8",
           "linecolor": "#EBF0F8",
           "ticks": "",
           "title": {
            "standoff": 15
           },
           "zerolinecolor": "#EBF0F8",
           "zerolinewidth": 2
          }
         }
        },
        "title": {
         "text": "PCA of RNA-Seq Expression Data (PC1 vs. PC2 vs. PC3)"
        }
       }
      }
     },
     "metadata": {},
     "output_type": "display_data"
    },
    {
     "name": "stdout",
     "output_type": "stream",
     "text": [
      "Heatmap saved as HTML!\n"
     ]
    }
   ],
   "source": [
    "#Plot in 3d\n",
    "fig = px.scatter_3d(\n",
    "    pca_df,\n",
    "    x='PC1',\n",
    "    y='PC2',\n",
    "    z='PC3',\n",
    "    color='Treatment',\n",
    "    hover_data=['Pig'],\n",
    "    title=\"PCA of RNA-Seq Expression Data (PC1 vs. PC2 vs. PC3)\",\n",
    "    labels={'PC1': f\"PC1 ({pca.explained_variance_ratio_[0]*100:.2f}% Variance)\",\n",
    "            'PC2': f\"PC2 ({pca.explained_variance_ratio_[1]*100:.2f}% Variance)\",\n",
    "            'PC3': f\"PC3 ({pca.explained_variance_ratio_[2]*100:.2f}% Variance)\"},\n",
    "    template=\"plotly_white\"\n",
    ")\n",
    "\n",
    "fig.show()\n",
    "\n",
    "fig.write_html(\"./data/outputs/rnaseq/PCA_3D_plotly.html\")\n",
    "print(\"Heatmap saved as HTML!\")"
   ]
  },
  {
   "cell_type": "markdown",
   "metadata": {},
   "source": [
    "### PCA on the high variance natural log data"
   ]
  },
  {
   "cell_type": "code",
   "execution_count": 53,
   "metadata": {},
   "outputs": [
    {
     "name": "stdout",
     "output_type": "stream",
     "text": [
      "cumulative_variance: [ 32.64492147  51.4762054   61.44725669  68.7396754   74.98512558\n",
      "  80.46788612  85.22330643  89.81908686  93.5634051   97.03518699\n",
      " 100.         100.        ]\n"
     ]
    },
    {
     "data": {
      "image/png": "[encoded data removed]",
      "text/plain": [
       "<Figure size 800x500 with 1 Axes>"
      ]
     },
     "metadata": {},
     "output_type": "display_data"
    }
   ],
   "source": [
    "# Perform PCA on the ln matrix\n",
    "pca = PCA()\n",
    "pca.fit(high_variance_ln_df.T)  # Transpose so samples are rows\n",
    "\n",
    "# Get explained variance ratio\n",
    "explained_variance = pca.explained_variance_ratio_ * 100  # Convert to percentage\n",
    "cumulative_variance = np.cumsum(explained_variance)  # Cumulative sum\n",
    "print(f\"cumulative_variance: {cumulative_variance}\")\n",
    "\n",
    "# Plot explained variance\n",
    "plt.figure(figsize=(8,5))\n",
    "plt.bar(range(1, len(explained_variance) + 1), explained_variance, alpha=0.6, label=\"Individual\")\n",
    "plt.plot(range(1, len(cumulative_variance) + 1), cumulative_variance, marker='o', color='r', label=\"Cumulative\")\n",
    "plt.xlabel(\"Principal Component\")\n",
    "plt.ylabel(\"Variance Explained (%)\")\n",
    "plt.title(\"Explained Variance by Principal Components\")\n",
    "plt.legend()\n",
    "plt.grid()\n",
    "plt.show()"
   ]
  },
  {
   "cell_type": "code",
   "execution_count": 54,
   "metadata": {},
   "outputs": [
    {
     "data": {
      "text/html": [
       "<div>\n",
       "<style scoped>\n",
       "    .dataframe tbody tr th:only-of-type {\n",
       "        vertical-align: middle;\n",
       "    }\n",
       "\n",
       "    .dataframe tbody tr th {\n",
       "        vertical-align: top;\n",
       "    }\n",
       "\n",
       "    .dataframe thead th {\n",
       "        text-align: right;\n",
       "    }\n",
       "</style>\n",
       "<table border=\"1\" class=\"dataframe\">\n",
       "  <thead>\n",
       "    <tr style=\"text-align: right;\">\n",
       "      <th></th>\n",
       "      <th>PC1</th>\n",
       "      <th>PC2</th>\n",
       "      <th>PC3</th>\n",
       "      <th>PC4</th>\n",
       "      <th>PC5</th>\n",
       "      <th>PC6</th>\n",
       "      <th>PC7</th>\n",
       "      <th>PC8</th>\n",
       "      <th>Pig</th>\n",
       "      <th>Treatment</th>\n",
       "      <th>Day Euthanized</th>\n",
       "      <th>Max Fecal Score</th>\n",
       "    </tr>\n",
       "  </thead>\n",
       "  <tbody>\n",
       "    <tr>\n",
       "      <th>0</th>\n",
       "      <td>38.233995</td>\n",
       "      <td>-11.193425</td>\n",
       "      <td>-7.735340</td>\n",
       "      <td>6.806449</td>\n",
       "      <td>12.967730</td>\n",
       "      <td>-1.436353</td>\n",
       "      <td>11.667407</td>\n",
       "      <td>10.763516</td>\n",
       "      <td>PIG1</td>\n",
       "      <td>Sham</td>\n",
       "      <td>21</td>\n",
       "      <td>0</td>\n",
       "    </tr>\n",
       "    <tr>\n",
       "      <th>1</th>\n",
       "      <td>27.904582</td>\n",
       "      <td>-5.657461</td>\n",
       "      <td>9.341814</td>\n",
       "      <td>-0.764579</td>\n",
       "      <td>4.069230</td>\n",
       "      <td>-15.653075</td>\n",
       "      <td>2.570020</td>\n",
       "      <td>-10.442601</td>\n",
       "      <td>PIG2</td>\n",
       "      <td>Sham</td>\n",
       "      <td>21</td>\n",
       "      <td>0</td>\n",
       "    </tr>\n",
       "    <tr>\n",
       "      <th>2</th>\n",
       "      <td>26.583446</td>\n",
       "      <td>-11.476778</td>\n",
       "      <td>-13.936593</td>\n",
       "      <td>11.247840</td>\n",
       "      <td>-16.514237</td>\n",
       "      <td>15.621159</td>\n",
       "      <td>-4.075655</td>\n",
       "      <td>-7.800176</td>\n",
       "      <td>PIG3</td>\n",
       "      <td>Sham</td>\n",
       "      <td>21</td>\n",
       "      <td>0</td>\n",
       "    </tr>\n",
       "    <tr>\n",
       "      <th>3</th>\n",
       "      <td>11.011024</td>\n",
       "      <td>58.700997</td>\n",
       "      <td>3.882581</td>\n",
       "      <td>6.666059</td>\n",
       "      <td>-1.082954</td>\n",
       "      <td>1.963381</td>\n",
       "      <td>-0.642995</td>\n",
       "      <td>3.107469</td>\n",
       "      <td>PIG4</td>\n",
       "      <td>Sham</td>\n",
       "      <td>21</td>\n",
       "      <td>0</td>\n",
       "    </tr>\n",
       "    <tr>\n",
       "      <th>4</th>\n",
       "      <td>23.530984</td>\n",
       "      <td>-4.722360</td>\n",
       "      <td>10.647442</td>\n",
       "      <td>-14.744357</td>\n",
       "      <td>2.233107</td>\n",
       "      <td>9.224545</td>\n",
       "      <td>0.711951</td>\n",
       "      <td>-8.553073</td>\n",
       "      <td>PIG5</td>\n",
       "      <td>Bhyo</td>\n",
       "      <td>21</td>\n",
       "      <td>2</td>\n",
       "    </tr>\n",
       "    <tr>\n",
       "      <th>5</th>\n",
       "      <td>4.728097</td>\n",
       "      <td>-6.753638</td>\n",
       "      <td>8.957165</td>\n",
       "      <td>-12.145869</td>\n",
       "      <td>-17.183198</td>\n",
       "      <td>-13.258458</td>\n",
       "      <td>-1.321649</td>\n",
       "      <td>15.027606</td>\n",
       "      <td>PIG6</td>\n",
       "      <td>Bhyo</td>\n",
       "      <td>14</td>\n",
       "      <td>4</td>\n",
       "    </tr>\n",
       "    <tr>\n",
       "      <th>6</th>\n",
       "      <td>-33.030943</td>\n",
       "      <td>2.423037</td>\n",
       "      <td>9.898667</td>\n",
       "      <td>-14.830517</td>\n",
       "      <td>-3.706306</td>\n",
       "      <td>8.889608</td>\n",
       "      <td>14.117468</td>\n",
       "      <td>-7.028791</td>\n",
       "      <td>PIG7</td>\n",
       "      <td>Bhyo</td>\n",
       "      <td>11</td>\n",
       "      <td>4</td>\n",
       "    </tr>\n",
       "    <tr>\n",
       "      <th>7</th>\n",
       "      <td>-18.245955</td>\n",
       "      <td>-1.653892</td>\n",
       "      <td>-20.496540</td>\n",
       "      <td>-3.084414</td>\n",
       "      <td>-12.244892</td>\n",
       "      <td>-3.284120</td>\n",
       "      <td>-4.269536</td>\n",
       "      <td>4.838116</td>\n",
       "      <td>PIG8</td>\n",
       "      <td>Bhyo</td>\n",
       "      <td>18</td>\n",
       "      <td>4</td>\n",
       "    </tr>\n",
       "    <tr>\n",
       "      <th>8</th>\n",
       "      <td>-24.475418</td>\n",
       "      <td>-8.510871</td>\n",
       "      <td>16.088544</td>\n",
       "      <td>21.881592</td>\n",
       "      <td>-2.301006</td>\n",
       "      <td>-9.525438</td>\n",
       "      <td>-6.547557</td>\n",
       "      <td>-9.025311</td>\n",
       "      <td>PIG9</td>\n",
       "      <td>Bhamp</td>\n",
       "      <td>21</td>\n",
       "      <td>1</td>\n",
       "    </tr>\n",
       "    <tr>\n",
       "      <th>9</th>\n",
       "      <td>-31.304814</td>\n",
       "      <td>-9.078797</td>\n",
       "      <td>0.726241</td>\n",
       "      <td>13.197941</td>\n",
       "      <td>6.300180</td>\n",
       "      <td>6.761643</td>\n",
       "      <td>12.129925</td>\n",
       "      <td>9.296798</td>\n",
       "      <td>PIG10</td>\n",
       "      <td>Bhamp</td>\n",
       "      <td>21</td>\n",
       "      <td>1</td>\n",
       "    </tr>\n",
       "    <tr>\n",
       "      <th>10</th>\n",
       "      <td>-6.379497</td>\n",
       "      <td>-7.684688</td>\n",
       "      <td>9.610626</td>\n",
       "      <td>-5.617947</td>\n",
       "      <td>14.365222</td>\n",
       "      <td>10.317825</td>\n",
       "      <td>-21.076948</td>\n",
       "      <td>8.709950</td>\n",
       "      <td>PIG11</td>\n",
       "      <td>Bhamp</td>\n",
       "      <td>14</td>\n",
       "      <td>4</td>\n",
       "    </tr>\n",
       "    <tr>\n",
       "      <th>11</th>\n",
       "      <td>-18.555501</td>\n",
       "      <td>5.607877</td>\n",
       "      <td>-26.984606</td>\n",
       "      <td>-8.612196</td>\n",
       "      <td>13.097123</td>\n",
       "      <td>-9.620718</td>\n",
       "      <td>-3.262432</td>\n",
       "      <td>-8.893502</td>\n",
       "      <td>PIG12</td>\n",
       "      <td>Bhamp</td>\n",
       "      <td>14</td>\n",
       "      <td>4</td>\n",
       "    </tr>\n",
       "  </tbody>\n",
       "</table>\n",
       "</div>"
      ],
      "text/plain": [
       "          PC1        PC2        PC3        PC4        PC5        PC6  \\\n",
       "0   38.233995 -11.193425  -7.735340   6.806449  12.967730  -1.436353   \n",
       "1   27.904582  -5.657461   9.341814  -0.764579   4.069230 -15.653075   \n",
       "2   26.583446 -11.476778 -13.936593  11.247840 -16.514237  15.621159   \n",
       "3   11.011024  58.700997   3.882581   6.666059  -1.082954   1.963381   \n",
       "4   23.530984  -4.722360  10.647442 -14.744357   2.233107   9.224545   \n",
       "5    4.728097  -6.753638   8.957165 -12.145869 -17.183198 -13.258458   \n",
       "6  -33.030943   2.423037   9.898667 -14.830517  -3.706306   8.889608   \n",
       "7  -18.245955  -1.653892 -20.496540  -3.084414 -12.244892  -3.284120   \n",
       "8  -24.475418  -8.510871  16.088544  21.881592  -2.301006  -9.525438   \n",
       "9  -31.304814  -9.078797   0.726241  13.197941   6.300180   6.761643   \n",
       "10  -6.379497  -7.684688   9.610626  -5.617947  14.365222  10.317825   \n",
       "11 -18.555501   5.607877 -26.984606  -8.612196  13.097123  -9.620718   \n",
       "\n",
       "          PC7        PC8    Pig Treatment  Day Euthanized  Max Fecal Score  \n",
       "0   11.667407  10.763516   PIG1      Sham              21                0  \n",
       "1    2.570020 -10.442601   PIG2      Sham              21                0  \n",
       "2   -4.075655  -7.800176   PIG3      Sham              21                0  \n",
       "3   -0.642995   3.107469   PIG4      Sham              21                0  \n",
       "4    0.711951  -8.553073   PIG5      Bhyo              21                2  \n",
       "5   -1.321649  15.027606   PIG6      Bhyo              14                4  \n",
       "6   14.117468  -7.028791   PIG7      Bhyo              11                4  \n",
       "7   -4.269536   4.838116   PIG8      Bhyo              18                4  \n",
       "8   -6.547557  -9.025311   PIG9     Bhamp              21                1  \n",
       "9   12.129925   9.296798  PIG10     Bhamp              21                1  \n",
       "10 -21.076948   8.709950  PIG11     Bhamp              14                4  \n",
       "11  -3.262432  -8.893502  PIG12     Bhamp              14                4  "
      ]
     },
     "metadata": {},
     "output_type": "display_data"
    },
    {
     "data": {
      "application/vnd.plotly.v1+json": {
       "config": {
        "plotlyServerURL": "https://plot.ly"
       },
       "data": [
        {
         "customdata": [
          [
           "PIG1"
          ],
          [
           "PIG2"
          ],
          [
           "PIG3"
          ],
          [
           "PIG4"
          ]
         ],
         "hovertemplate": "Treatment=Sham<br>PC1 (32.64% Variance)=%{x}<br>PC2 (18.83% Variance)=%{y}<br>Pig=%{customdata[0]}<extra></extra>",
         "legendgroup": "Sham",
         "marker": {
          "color": "#636efa",
          "symbol": "circle"
         },
         "mode": "markers",
         "name": "Sham",
         "orientation": "v",
         "showlegend": true,
         "type": "scatter",
         "x": {
          "bdata": "ztlMi/MdQ0DWwwCtkuc7QJYycbVclTpA2l+G56QFJkA=",
          "dtype": "f8"
         },
         "xaxis": "x",
         "y": {
          "bdata": "stN9oQhjJsCMrC+VPaEWwAIGWDMc9CbAiKUfSLpZTUA=",
          "dtype": "f8"
         },
         "yaxis": "y"
        },
        {
         "customdata": [
          [
           "PIG5"
          ],
          [
           "PIG6"
          ],
          [
           "PIG7"
          ],
          [
           "PIG8"
          ]
         ],
         "hovertemplate": "Treatment=Bhyo<br>PC1 (32.64% Variance)=%{x}<br>PC2 (18.83% Variance)=%{y}<br>Pig=%{customdata[0]}<extra></extra>",
         "legendgroup": "Bhyo",
         "marker": {
          "color": "#EF553B",
          "symbol": "circle"
         },
         "mode": "markers",
         "name": "Bhyo",
         "orientation": "v",
         "showlegend": true,
         "type": "scatter",
         "x": {
          "bdata": "Addvi+6HN0AnmadYkukSQAp3ePD1g0DAk5BK7/Y+MsA=",
          "dtype": "f8"
         },
         "xaxis": "x",
         "y": {
          "bdata": "ZmQLYrLjEsDBinGkuQMbwPKqnRdhYgNAHiOhx1d2+r8=",
          "dtype": "f8"
         },
         "yaxis": "y"
        },
        {
         "customdata": [
          [
           "PIG9"
          ],
          [
           "PIG10"
          ],
          [
           "PIG11"
          ],
          [
           "PIG12"
          ]
         ],
         "hovertemplate": "Treatment=Bhamp<br>PC1 (32.64% Variance)=%{x}<br>PC2 (18.83% Variance)=%{y}<br>Pig=%{customdata[0]}<extra></extra>",
         "legendgroup": "Bhamp",
         "marker": {
          "color": "#00cc96",
          "symbol": "circle"
         },
         "mode": "markers",
         "name": "Bhamp",
         "orientation": "v",
         "showlegend": true,
         "type": "scatter",
         "x": {
          "bdata": "0hoAALV5OMDfvWlGCE4/wF0Tab2ahBnAGPtoSDWOMsA=",
          "dtype": "f8"
         },
         "xaxis": "x",
         "y": {
          "bdata": "l3Y54pAFIcAzd2ocWCgiwAnG2dwevR7A9jeWRHduFkA=",
          "dtype": "f8"
         },
         "yaxis": "y"
        }
       ],
       "layout": {
        "legend": {
         "title": {
          "text": "Treatment"
         },
         "tracegroupgap": 0
        },
        "template": {
         "data": {
          "bar": [
           {
            "error_x": {
             "color": "#2a3f5f"
            },
            "error_y": {
             "color": "#2a3f5f"
            },
            "marker": {
             "line": {
              "color": "white",
              "width": 0.5
             },
             "pattern": {
              "fillmode": "overlay",
              "size": 10,
              "solidity": 0.2
             }
            },
            "type": "bar"
           }
          ],
          "barpolar": [
           {
            "marker": {
             "line": {
              "color": "white",
              "width": 0.5
             },
             "pattern": {
              "fillmode": "overlay",
              "size": 10,
              "solidity": 0.2
             }
            },
            "type": "barpolar"
           }
          ],
          "carpet": [
           {
            "aaxis": {
             "endlinecolor": "#2a3f5f",
             "gridcolor": "#C8D4E3",
             "linecolor": "#C8D4E3",
             "minorgridcolor": "#C8D4E3",
             "startlinecolor": "#2a3f5f"
            },
            "baxis": {
             "endlinecolor": "#2a3f5f",
             "gridcolor": "#C8D4E3",
             "linecolor": "#C8D4E3",
             "minorgridcolor": "#C8D4E3",
             "startlinecolor": "#2a3f5f"
            },
            "type": "carpet"
           }
          ],
          "choropleth": [
           {
            "colorbar": {
             "outlinewidth": 0,
             "ticks": ""
            },
            "type": "choropleth"
           }
          ],
          "contour": [
           {
            "colorbar": {
             "outlinewidth": 0,
             "ticks": ""
            },
            "colorscale": [
             [
              0,
              "#0d0887"
             ],
             [
              0.1111111111111111,
              "#46039f"
             ],
             [
              0.2222222222222222,
              "#7201a8"
             ],
             [
              0.3333333333333333,
              "#9c179e"
             ],
             [
              0.4444444444444444,
              "#bd3786"
             ],
             [
              0.5555555555555556,
              "#d8576b"
             ],
             [
              0.6666666666666666,
              "#ed7953"
             ],
             [
              0.7777777777777778,
              "#fb9f3a"
             ],
             [
              0.8888888888888888,
              "#fdca26"
             ],
             [
              1,
              "#f0f921"
             ]
            ],
            "type": "contour"
           }
          ],
          "contourcarpet": [
           {
            "colorbar": {
             "outlinewidth": 0,
             "ticks": ""
            },
            "type": "contourcarpet"
           }
          ],
          "heatmap": [
           {
            "colorbar": {
             "outlinewidth": 0,
             "ticks": ""
            },
            "colorscale": [
             [
              0,
              "#0d0887"
             ],
             [
              0.1111111111111111,
              "#46039f"
             ],
             [
              0.2222222222222222,
              "#7201a8"
             ],
             [
              0.3333333333333333,
              "#9c179e"
             ],
             [
              0.4444444444444444,
              "#bd3786"
             ],
             [
              0.5555555555555556,
              "#d8576b"
             ],
             [
              0.6666666666666666,
              "#ed7953"
             ],
             [
              0.7777777777777778,
              "#fb9f3a"
             ],
             [
              0.8888888888888888,
              "#fdca26"
             ],
             [
              1,
              "#f0f921"
             ]
            ],
            "type": "heatmap"
           }
          ],
          "histogram": [
           {
            "marker": {
             "pattern": {
              "fillmode": "overlay",
              "size": 10,
              "solidity": 0.2
             }
            },
            "type": "histogram"
           }
          ],
          "histogram2d": [
           {
            "colorbar": {
             "outlinewidth": 0,
             "ticks": ""
            },
            "colorscale": [
             [
              0,
              "#0d0887"
             ],
             [
              0.1111111111111111,
              "#46039f"
             ],
             [
              0.2222222222222222,
              "#7201a8"
             ],
             [
              0.3333333333333333,
              "#9c179e"
             ],
             [
              0.4444444444444444,
              "#bd3786"
             ],
             [
              0.5555555555555556,
              "#d8576b"
             ],
             [
              0.6666666666666666,
              "#ed7953"
             ],
             [
              0.7777777777777778,
              "#fb9f3a"
             ],
             [
              0.8888888888888888,
              "#fdca26"
             ],
             [
              1,
              "#f0f921"
             ]
            ],
            "type": "histogram2d"
           }
          ],
          "histogram2dcontour": [
           {
            "colorbar": {
             "outlinewidth": 0,
             "ticks": ""
            },
            "colorscale": [
             [
              0,
              "#0d0887"
             ],
             [
              0.1111111111111111,
              "#46039f"
             ],
             [
              0.2222222222222222,
              "#7201a8"
             ],
             [
              0.3333333333333333,
              "#9c179e"
             ],
             [
              0.4444444444444444,
              "#bd3786"
             ],
             [
              0.5555555555555556,
              "#d8576b"
             ],
             [
              0.6666666666666666,
              "#ed7953"
             ],
             [
              0.7777777777777778,
              "#fb9f3a"
             ],
             [
              0.8888888888888888,
              "#fdca26"
             ],
             [
              1,
              "#f0f921"
             ]
            ],
            "type": "histogram2dcontour"
           }
          ],
          "mesh3d": [
           {
            "colorbar": {
             "outlinewidth": 0,
             "ticks": ""
            },
            "type": "mesh3d"
           }
          ],
          "parcoords": [
           {
            "line": {
             "colorbar": {
              "outlinewidth": 0,
              "ticks": ""
             }
            },
            "type": "parcoords"
           }
          ],
          "pie": [
           {
            "automargin": true,
            "type": "pie"
           }
          ],
          "scatter": [
           {
            "fillpattern": {
             "fillmode": "overlay",
             "size": 10,
             "solidity": 0.2
            },
            "type": "scatter"
           }
          ],
          "scatter3d": [
           {
            "line": {
             "colorbar": {
              "outlinewidth": 0,
              "ticks": ""
             }
            },
            "marker": {
             "colorbar": {
              "outlinewidth": 0,
              "ticks": ""
             }
            },
            "type": "scatter3d"
           }
          ],
          "scattercarpet": [
           {
            "marker": {
             "colorbar": {
              "outlinewidth": 0,
              "ticks": ""
             }
            },
            "type": "scattercarpet"
           }
          ],
          "scattergeo": [
           {
            "marker": {
             "colorbar": {
              "outlinewidth": 0,
              "ticks": ""
             }
            },
            "type": "scattergeo"
           }
          ],
          "scattergl": [
           {
            "marker": {
             "colorbar": {
              "outlinewidth": 0,
              "ticks": ""
             }
            },
            "type": "scattergl"
           }
          ],
          "scattermap": [
           {
            "marker": {
             "colorbar": {
              "outlinewidth": 0,
              "ticks": ""
             }
            },
            "type": "scattermap"
           }
          ],
          "scattermapbox": [
           {
            "marker": {
             "colorbar": {
              "outlinewidth": 0,
              "ticks": ""
             }
            },
            "type": "scattermapbox"
           }
          ],
          "scatterpolar": [
           {
            "marker": {
             "colorbar": {
              "outlinewidth": 0,
              "ticks": ""
             }
            },
            "type": "scatterpolar"
           }
          ],
          "scatterpolargl": [
           {
            "marker": {
             "colorbar": {
              "outlinewidth": 0,
              "ticks": ""
             }
            },
            "type": "scatterpolargl"
           }
          ],
          "scatterternary": [
           {
            "marker": {
             "colorbar": {
              "outlinewidth": 0,
              "ticks": ""
             }
            },
            "type": "scatterternary"
           }
          ],
          "surface": [
           {
            "colorbar": {
             "outlinewidth": 0,
             "ticks": ""
            },
            "colorscale": [
             [
              0,
              "#0d0887"
             ],
             [
              0.1111111111111111,
              "#46039f"
             ],
             [
              0.2222222222222222,
              "#7201a8"
             ],
             [
              0.3333333333333333,
              "#9c179e"
             ],
             [
              0.4444444444444444,
              "#bd3786"
             ],
             [
              0.5555555555555556,
              "#d8576b"
             ],
             [
              0.6666666666666666,
              "#ed7953"
             ],
             [
              0.7777777777777778,
              "#fb9f3a"
             ],
             [
              0.8888888888888888,
              "#fdca26"
             ],
             [
              1,
              "#f0f921"
             ]
            ],
            "type": "surface"
           }
          ],
          "table": [
           {
            "cells": {
             "fill": {
              "color": "#EBF0F8"
             },
             "line": {
              "color": "white"
             }
            },
            "header": {
             "fill": {
              "color": "#C8D4E3"
             },
             "line": {
              "color": "white"
             }
            },
            "type": "table"
           }
          ]
         },
         "layout": {
          "annotationdefaults": {
           "arrowcolor": "#2a3f5f",
           "arrowhead": 0,
           "arrowwidth": 1
          },
          "autotypenumbers": "strict",
          "coloraxis": {
           "colorbar": {
            "outlinewidth": 0,
            "ticks": ""
           }
          },
          "colorscale": {
           "diverging": [
            [
             0,
             "#8e0152"
            ],
            [
             0.1,
             "#c51b7d"
            ],
            [
             0.2,
             "#de77ae"
            ],
            [
             0.3,
             "#f1b6da"
            ],
            [
             0.4,
             "#fde0ef"
            ],
            [
             0.5,
             "#f7f7f7"
            ],
            [
             0.6,
             "#e6f5d0"
            ],
            [
             0.7,
             "#b8e186"
            ],
            [
             0.8,
             "#7fbc41"
            ],
            [
             0.9,
             "#4d9221"
            ],
            [
             1,
             "#276419"
            ]
           ],
           "sequential": [
            [
             0,
             "#0d0887"
            ],
            [
             0.1111111111111111,
             "#46039f"
            ],
            [
             0.2222222222222222,
             "#7201a8"
            ],
            [
             0.3333333333333333,
             "#9c179e"
            ],
            [
             0.4444444444444444,
             "#bd3786"
            ],
            [
             0.5555555555555556,
             "#d8576b"
            ],
            [
             0.6666666666666666,
             "#ed7953"
            ],
            [
             0.7777777777777778,
             "#fb9f3a"
            ],
            [
             0.8888888888888888,
             "#fdca26"
            ],
            [
             1,
             "#f0f921"
            ]
           ],
           "sequentialminus": [
            [
             0,
             "#0d0887"
            ],
            [
             0.1111111111111111,
             "#46039f"
            ],
            [
             0.2222222222222222,
             "#7201a8"
            ],
            [
             0.3333333333333333,
             "#9c179e"
            ],
            [
             0.4444444444444444,
             "#bd3786"
            ],
            [
             0.5555555555555556,
             "#d8576b"
            ],
            [
             0.6666666666666666,
             "#ed7953"
            ],
            [
             0.7777777777777778,
             "#fb9f3a"
            ],
            [
             0.8888888888888888,
             "#fdca26"
            ],
            [
             1,
             "#f0f921"
            ]
           ]
          },
          "colorway": [
           "#636efa",
           "#EF553B",
           "#00cc96",
           "#ab63fa",
           "#FFA15A",
           "#19d3f3",
           "#FF6692",
           "#B6E880",
           "#FF97FF",
           "#FECB52"
          ],
          "font": {
           "color": "#2a3f5f"
          },
          "geo": {
           "bgcolor": "white",
           "lakecolor": "white",
           "landcolor": "white",
           "showlakes": true,
           "showland": true,
           "subunitcolor": "#C8D4E3"
          },
          "hoverlabel": {
           "align": "left"
          },
          "hovermode": "closest",
          "mapbox": {
           "style": "light"
          },
          "paper_bgcolor": "white",
          "plot_bgcolor": "white",
          "polar": {
           "angularaxis": {
            "gridcolor": "#EBF0F8",
            "linecolor": "#EBF0F8",
            "ticks": ""
           },
           "bgcolor": "white",
           "radialaxis": {
            "gridcolor": "#EBF0F8",
            "linecolor": "#EBF0F8",
            "ticks": ""
           }
          },
          "scene": {
           "xaxis": {
            "backgroundcolor": "white",
            "gridcolor": "#DFE8F3",
            "gridwidth": 2,
            "linecolor": "#EBF0F8",
            "showbackground": true,
            "ticks": "",
            "zerolinecolor": "#EBF0F8"
           },
           "yaxis": {
            "backgroundcolor": "white",
            "gridcolor": "#DFE8F3",
            "gridwidth": 2,
            "linecolor": "#EBF0F8",
            "showbackground": true,
            "ticks": "",
            "zerolinecolor": "#EBF0F8"
           },
           "zaxis": {
            "backgroundcolor": "white",
            "gridcolor": "#DFE8F3",
            "gridwidth": 2,
            "linecolor": "#EBF0F8",
            "showbackground": true,
            "ticks": "",
            "zerolinecolor": "#EBF0F8"
           }
          },
          "shapedefaults": {
           "line": {
            "color": "#2a3f5f"
           }
          },
          "ternary": {
           "aaxis": {
            "gridcolor": "#DFE8F3",
            "linecolor": "#A2B1C6",
            "ticks": ""
           },
           "baxis": {
            "gridcolor": "#DFE8F3",
            "linecolor": "#A2B1C6",
            "ticks": ""
           },
           "bgcolor": "white",
           "caxis": {
            "gridcolor": "#DFE8F3",
            "linecolor": "#A2B1C6",
            "ticks": ""
           }
          },
          "title": {
           "x": 0.05
          },
          "xaxis": {
           "automargin": true,
           "gridcolor": "#EBF0F8",
           "linecolor": "#EBF0F8",
           "ticks": "",
           "title": {
            "standoff": 15
           },
           "zerolinecolor": "#EBF0F8",
           "zerolinewidth": 2
          },
          "yaxis": {
           "automargin": true,
           "gridcolor": "#EBF0F8",
           "linecolor": "#EBF0F8",
           "ticks": "",
           "title": {
            "standoff": 15
           },
           "zerolinecolor": "#EBF0F8",
           "zerolinewidth": 2
          }
         }
        },
        "title": {
         "text": "PCA of RNA-Seq Expression Data (PC1 vs. PC2)"
        },
        "xaxis": {
         "anchor": "y",
         "domain": [
          0,
          1
         ],
         "title": {
          "text": "PC1 (32.64% Variance)"
         }
        },
        "yaxis": {
         "anchor": "x",
         "domain": [
          0,
          1
         ],
         "title": {
          "text": "PC2 (18.83% Variance)"
         }
        }
       }
      }
     },
     "metadata": {},
     "output_type": "display_data"
    }
   ],
   "source": [
    "# Perform PCA with 4 components\n",
    "pca = PCA(n_components=8)\n",
    "pca_results = pca.fit_transform(high_variance_ln_df.T)  # Transpose so samples are rows\n",
    "\n",
    "# Create DataFrame with PCA results\n",
    "pca_df = pd.DataFrame(pca_results, columns=['PC1', 'PC2', 'PC3', 'PC4', 'PC5', 'PC6', 'PC7', 'PC8'])\n",
    "pca_df['Pig'] = z_score_df.columns  # Match sample names\n",
    "pca_df = pca_df.merge(metadata_df, on='Pig')  # Add treatment labels\n",
    "display(pca_df)\n",
    "# Plot PC1 vs PC2\n",
    "fig = px.scatter(\n",
    "    pca_df,\n",
    "    x='PC1',\n",
    "    y='PC2',\n",
    "    color='Treatment',  # Color by treatment group\n",
    "    hover_data=['Pig'],\n",
    "    title=\"PCA of RNA-Seq Expression Data (PC1 vs. PC2)\",\n",
    "    labels={'PC1': f\"PC1 ({pca.explained_variance_ratio_[0]*100:.2f}% Variance)\",\n",
    "            'PC2': f\"PC2 ({pca.explained_variance_ratio_[1]*100:.2f}% Variance)\"},\n",
    "    template=\"plotly_white\"\n",
    ")\n",
    "\n",
    "fig.show()"
   ]
  },
  {
   "cell_type": "markdown",
   "metadata": {},
   "source": []
  }
 ],
 "metadata": {
  "kernelspec": {
   "display_name": "cobo_lab",
   "language": "python",
   "name": "python3"
  },
  "language_info": {
   "codemirror_mode": {
    "name": "ipython",
    "version": 3
   },
   "file_extension": ".py",
   "mimetype": "text/x-python",
   "name": "python",
   "nbconvert_exporter": "python",
   "pygments_lexer": "ipython3",
   "version": "3.12.9"
  }
 },
 "nbformat": 4,
 "nbformat_minor": 2
}
